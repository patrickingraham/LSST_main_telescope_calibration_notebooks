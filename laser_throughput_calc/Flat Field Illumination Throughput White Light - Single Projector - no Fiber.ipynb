{
 "cells": [
  {
   "cell_type": "markdown",
   "metadata": {},
   "source": [
    "This notebook is to determine the required laser power to illuminate the flat field screen\n",
    "\n",
    "currently in Python 3"
   ]
  },
  {
   "cell_type": "code",
   "execution_count": 1,
   "metadata": {},
   "outputs": [],
   "source": [
    "import numpy as np\n",
    "import math\n",
    "\n",
    "import matplotlib.pyplot as plt\n",
    "import scipy.interpolate\n",
    "from scipy.integrate import simps"
   ]
  },
  {
   "cell_type": "code",
   "execution_count": 2,
   "metadata": {},
   "outputs": [],
   "source": [
    "# declare constants\n",
    "h = 6.626e-34 # m2 kg / s\n",
    "c = 3e8 # m/s"
   ]
  },
  {
   "cell_type": "code",
   "execution_count": 3,
   "metadata": {},
   "outputs": [],
   "source": [
    "def get_white_light_source(self):\n",
    "    import numpy as np\n",
    "    import sys\n",
    "    \n",
    "    # check to make sure self is a string\n",
    "    try:\n",
    "        test = self.lower()\n",
    "    except AttributeError:\n",
    "        print(\"Returning, input must be a string\")\n",
    "        return()\n",
    "\n",
    "    # make self lowercase\n",
    "    self = self.lower()\n",
    "    \n",
    "    if self == 'energetiq_99xfc_600um_fiber':\n",
    "        # Load Energetiq-99XFC profile output profile (no fiber)\n",
    "        # no actual profile, just guessing from the curve in the PDF file \n",
    "        filename='Laser_power_data/Energetiq-99XFC.csv'\n",
    "        energetiq_99xfc_data = np.genfromtxt(filename,\n",
    "                          delimiter=',',comments='#') # wavelength [nm], Transmission\n",
    "        #curve assumes a 230um diameter fiber, 1m in length\n",
    "        # can use a 600µm fibre which then increases flux by a factor of ~2.25.\n",
    "        fiber_diameter_multiplier = 2.25\n",
    "\n",
    "        energetiq_99xfc_wave = np.concatenate((energetiq_99xfc_data[:,0],np.array([1200]))) # nm\n",
    "        energetiq_99xfc_flux_W_nm =  np.concatenate((energetiq_99xfc_data[:,1],\n",
    "                                             np.array([25])))*1e-6*fiber_diameter_multiplier # in watts/nm\n",
    "        \n",
    "        data={\"wave_nm\":energetiq_99xfc_wave, \"flux_W_nm\":energetiq_99xfc_flux_W_nm,\n",
    "              \"fiber_diameter_multiplier\":fiber_diameter_multiplier}\n",
    "        return(data)\n",
    "\n",
    "    \n",
    "    if self == 'energetiq_99x':\n",
    "        # Load Energetiq-99X profile output profile\n",
    "        # profile esimated from the curve in the PDF file \n",
    "        filename='laser_throughput_calc/Laser_power_data/Energetiq-99X.csv'\n",
    "        energetiq_99x_data = np.genfromtxt(filename,\n",
    "                          delimiter=',',comments='#') # wavelength [nm], Transmission\n",
    "\n",
    "        energetiq_99x_wave =      np.concatenate((energetiq_99x_data[:,0],np.array([1000.0]))) # nm\n",
    "        energetiq_99x_flux_mW_nm_mm_sr =  np.concatenate((energetiq_99x_data[:,1],\n",
    "                                             np.array([0.0]))) # in mW/nm/sr/mm^2\n",
    "        print(\"Assuming an NA beam of 0.48, and an optic of 1.4 inch diameter catching the beam\")\n",
    "        # want watts/nm\n",
    "        NA=0.48\n",
    "        angle_deg=np.arcsin(NA)*180/np.pi\n",
    "        print(angle_deg)\n",
    "        beam_diam_mm=1.4*25.4 # assume optic is 1.4 inch beam diameter and convert to mm - optic is 1.5' true diam\n",
    "\n",
    "        distance = (beam_diam_mm/2) / np.tan(angle_deg*np.pi/180) # mm\n",
    "        #print(distance)\n",
    "        source_area=np.pi* (60e-3)/2 * (140e-3)/2  # mm^2 using 60 μm x 140 μm FWHM plasma\n",
    "        solid_angle= source_area / distance**2\n",
    "        collecting_area=np.pi * (beam_diam_mm/2)**2 # in mm^2\n",
    "\n",
    "        energetiq_99x_flux_W_nm = energetiq_99x_flux_mW_nm_mm_sr * collecting_area * solid_angle / 1000 # W/nm\n",
    "        \n",
    "        fiber_diameter_multiplier=1.0 # just for completeness - not useful for this\n",
    "        data={\"wave_nm\":energetiq_99x_wave, \"flux_W_nm\":energetiq_99x_flux_W_nm,\n",
    "              \"fiber_diameter_multiplier\":fiber_diameter_multiplier}\n",
    "        #print(energetiq_99x_flux_W_nm)\n",
    "        return(data)\n",
    "    \n",
    "    if '-c1' in self:\n",
    "        filename='Laser_power_data/white_light_sources/C1_CollimatedHighPowerLEDs_ScaledSpectra_8.csv'\n",
    "\n",
    "        source_raw_data = np.genfromtxt(filename,skip_header=4,\n",
    "                          delimiter=',',comments='#') # wavelength [nm], Transmission\n",
    "        source_labels_data = np.genfromtxt(filename,max_rows=1, dtype=str,\n",
    "                          delimiter=',',comments='#') # wavelength [nm], Transmission\n",
    "        #print(source_labels_data)\n",
    "        # make labels all lowercase\n",
    "        source_labels_data = [element.lower() for element in source_labels_data]\n",
    "        # find where the source is in the csv file\n",
    "        ind=(source_labels_data).index(self) \n",
    "        #print(ind)\n",
    "        #print(source_labels_data[ind])\n",
    "        wave_nm = source_raw_data[:,ind]\n",
    "        flux_W_nm = source_raw_data[:,ind+1] / 1000.0 # input is in mW\n",
    "        fiber_diameter_multiplier=None # junk input\n",
    "        data={\"wave_nm\":wave_nm, \"flux_W_nm\":flux_W_nm,\n",
    "              \"fiber_diameter_multiplier\":fiber_diameter_multiplier}\n",
    "        return(data)\n",
    "    \n",
    "    print('Lightsource not found, options are:')\n",
    "    print('energetiq_99xfc_600um_fiber')\n",
    "    print('energetiq_99x')\n",
    "    return()\n"
   ]
  },
  {
   "cell_type": "code",
   "execution_count": 4,
   "metadata": {},
   "outputs": [
    {
     "name": "stdout",
     "output_type": "stream",
     "text": [
      "Returning, input must be a string\n"
     ]
    }
   ],
   "source": [
    "source_data=get_white_light_source(3)"
   ]
  },
  {
   "cell_type": "markdown",
   "metadata": {},
   "source": [
    "### Load source output profile and designate LSST filter"
   ]
  },
  {
   "cell_type": "code",
   "execution_count": 64,
   "metadata": {},
   "outputs": [
    {
     "data": {
      "image/png": "[encoded data removed]",
      "text/plain": [
       "<Figure size 432x288 with 1 Axes>"
      ]
     },
     "metadata": {},
     "output_type": "display_data"
    },
    {
     "name": "stdout",
     "output_type": "stream",
     "text": [
      "2.807e+16 photons at 950 nm\n"
     ]
    }
   ],
   "source": [
    "#LSST filter\n",
    "filter = 'y'  # ugrizy\n",
    "\n",
    "# assume 2inch collimators from thorlabs, sources have 1mm by 1mm sizes\n",
    "#laser = 'M365LP1-C1' # u-band = 1.0 minutes at SNR = 1000 -> ~2 inch diam housing\n",
    "#laser = 'M365L2-C1' # u-band = 4.0 minutes at SNR = 1000 -> ~1 inch diam housing\n",
    "#laser = 'M385L2-C1' # u-band = 3.6 minutes at SNR = 1000 -> ~1 inch diam\n",
    "#laser = 'M385LP1-C1' # u-band = 0.8 minutes at SNR = 1000 -> ~2 inch diam\n",
    "#laser = 'M455L3-C1' # b-band = 0.6 minutes at SNR = 1000 -> ~1 inch diam\n",
    "#laser = 'M660L4-C1' # r-band = 0.3 minutes at SNR = 1000 -> ~1 inch diam - source is 1.5mm x 1.5mm \n",
    "#laser = 'M625L3-C1' # r-band = 0.5 minutes at SNR = 1000 -> ~1 inch diam\n",
    "#laser = 'M730L4-C1' # i-band = 0.7 minutes at SNR = 1000 -> ~1 inch diam\n",
    "#laser = 'M850L3-C1' # z-band = 0.3 minutes at SNR = 1000 -> ~1 inch diam\n",
    "laser = 'M940L3-C1' # y-band = 0.7 minutes at SNR = 1000 -> ~1 inch diam\n",
    "\n",
    "source_data=get_white_light_source(laser)\n",
    "\n",
    "laser_flux_W_nm=source_data['flux_W_nm']\n",
    "laser_wave = source_data['wave_nm']\n",
    "fiber_diameter_multiplier=source_data['fiber_diameter_multiplier']\n",
    "\n",
    "if 1 == 1:\n",
    "    \n",
    "    if laser == 'energetiq_99x':\n",
    "        conv_fact=1.0/(collecting_area * solid_angle / 1000)\n",
    "        \n",
    "        plt.ylim([0.001,100])\n",
    "        plt.xlim([170,800])\n",
    "        plt.ylabel('Spectral Radiance [mW/nm/sr/mm^2]')\n",
    "        plt.xlabel('wavelength [nm]')\n",
    "        plt.title(laser)\n",
    "        plt.semilogy(laser_wave,laser_flux_W_nm*conv_fact/fiber_diameter_multiplier,'-g',label=\"Power vs wavelengh\")\n",
    "        \n",
    "    if '-c1' in laser.lower():\n",
    "        plt.ylim([0,60])\n",
    "        plt.xlim([350,1050])\n",
    "        plt.ylabel('Spectral Power [mW/nm]')\n",
    "        plt.xlabel('wavelength [nm]')\n",
    "        plt.title(laser+' from Thorlabs')\n",
    "        plt.plot(laser_wave,laser_flux_W_nm*1000)\n",
    "    \n",
    "    #plt.legend()\n",
    "    plt.show()\n",
    "    plt.close()\n",
    "    \n",
    "        \n",
    "# convert to photons\n",
    "number_of_photons = laser_flux_W_nm / (h*c/(laser_wave*1e-9))  # photons per second per nm\n",
    "\n",
    "ind,= np.where(number_of_photons == np.nanmax(number_of_photons)) # indice of interest\n",
    "print(\"%.4g photons at %d nm\" % (number_of_photons[ind], laser_wave[ind]) )"
   ]
  },
  {
   "cell_type": "markdown",
   "metadata": {},
   "source": [
    "### Load beam transfer bench profile"
   ]
  },
  {
   "cell_type": "code",
   "execution_count": 65,
   "metadata": {},
   "outputs": [],
   "source": [
    "# bench depends on light source\n",
    "# throughput depends on light source baffling \n",
    "# not currently included in Ming's system throughput estimate\n",
    "\n",
    "if laser == 'energetiq_99x':\n",
    "    mask_throughput=0.1 # Guess\n",
    "    Flux_hitting_reflector = laser_flux_W_nm  # watts/nm\n",
    "        \n",
    "if '-c1' in laser.lower():\n",
    "    mask_throughput=0.2 # Guess on efficiency\n",
    "    Flux_hitting_reflector = laser_flux_W_nm  # watts/nm"
   ]
  },
  {
   "cell_type": "code",
   "execution_count": null,
   "metadata": {},
   "outputs": [],
   "source": []
  },
  {
   "cell_type": "markdown",
   "metadata": {},
   "source": [
    "### Multiply by end throughput calculation from Ming/Zemax/FRED (660nm)"
   ]
  },
  {
   "cell_type": "code",
   "execution_count": 66,
   "metadata": {},
   "outputs": [],
   "source": [
    "# ming says 0.02% - but that's probably optimistic - using half\n",
    "FF_system_efficiency = mask_throughput* 0.01/100.  # screen photons to detector - 3 Al mirrors - no silver\n",
    "flux_hitting_focal_plane = Flux_hitting_reflector * FF_system_efficiency # watts/nm"
   ]
  },
  {
   "cell_type": "markdown",
   "metadata": {},
   "source": [
    "### Remove filter dependence"
   ]
  },
  {
   "cell_type": "code",
   "execution_count": 67,
   "metadata": {},
   "outputs": [],
   "source": [
    "# must divide by filter response at 660nm first - then multiply by the desired filters\n",
    "r_filter_trans0 = np.genfromtxt('LSST_response_files/filter_r.dat',\n",
    "                          delimiter=' ',comments='#') # wavelength [nm], Transmission\n",
    "r_filter_trans_660nm = scipy.interpolate.griddata(r_filter_trans0[:,0],r_filter_trans0[:,1], 660, method='linear')\n",
    "\n",
    "filterless_flux_hitting_focal_plane = flux_hitting_focal_plane / r_filter_trans_660nm # watts/nm\n"
   ]
  },
  {
   "cell_type": "markdown",
   "metadata": {},
   "source": [
    "### Convert from energy to photons - get photons per pixel"
   ]
  },
  {
   "cell_type": "code",
   "execution_count": 68,
   "metadata": {},
   "outputs": [],
   "source": [
    "filterless_flux_hitting_focal_plane_photons = filterless_flux_hitting_focal_plane / (h*c/(laser_wave*1e-9)) # photons per second per nm\n",
    "#want the number of photons per second hitting eachpixel.\n",
    "#Flux_hitting_focal_plane_photons[ind]"
   ]
  },
  {
   "cell_type": "code",
   "execution_count": 69,
   "metadata": {},
   "outputs": [
    {
     "name": "stdout",
     "output_type": "stream",
     "text": [
      "Filterless photons per pixel per second 178 at 950 nm\n"
     ]
    }
   ],
   "source": [
    "total_number_of_pixels = 3.2e9 # 3.2 gigapixels\n",
    "#full_well = 130000 # electrons   - this is actually from DECam..\n",
    "\n",
    "filterless_flux_per_pixel_per_second_per_nm = filterless_flux_hitting_focal_plane_photons / total_number_of_pixels \n",
    "print(\"Filterless photons per pixel per second %d at %d nm\" % (filterless_flux_per_pixel_per_second_per_nm[ind],laser_wave[ind]) )"
   ]
  },
  {
   "cell_type": "code",
   "execution_count": 70,
   "metadata": {},
   "outputs": [
    {
     "data": {
      "image/png": "[encoded data removed]",
      "text/plain": [
       "<Figure size 432x288 with 1 Axes>"
      ]
     },
     "metadata": {},
     "output_type": "display_data"
    }
   ],
   "source": [
    "if 1 == 1:\n",
    "    plt.plot(laser_wave,filterless_flux_per_pixel_per_second_per_nm,'-g')\n",
    "    plt.title( 'Filterless Incident flux on individual detector pixels',fontsize=15)\n",
    "    plt.ylabel('Filterless Flux [ph/pix/s/nm]',fontsize=15)\n",
    "    plt.xlabel('wavelength [nm]',fontsize=20)\n",
    "    plt.xlim([320,1125])\n",
    "    #plt.text(500, 5, '**Assumes NO FILTER**')\n",
    "    plt.show()\n",
    "    plt.close()"
   ]
  },
  {
   "cell_type": "markdown",
   "metadata": {
    "collapsed": true
   },
   "source": [
    "### Calculate time to complete a broadband flat"
   ]
  },
  {
   "cell_type": "code",
   "execution_count": 71,
   "metadata": {},
   "outputs": [],
   "source": [
    "# assume a required MEDIAN SNR for a given wavelength\n",
    "med_SNR=1000.0\n",
    "\n",
    "# load a filter (use total transmission since that is what actually\n",
    "# matters and the filters have leaks that confuse the algorithm)\n",
    "filename='LSST_response_files/total_'+filter+'.dat'\n",
    "total_trans000 = np.genfromtxt(filename, delimiter=' ',comments='#') # wavelength [nm], Transmission\n",
    "#find nans and remove them\n",
    "good = ~np.isnan(total_trans000[:,1])\n",
    "total_trans0=np.transpose(np.array([total_trans000[good,0], total_trans000[good,1]]))\n"
   ]
  },
  {
   "cell_type": "code",
   "execution_count": 72,
   "metadata": {},
   "outputs": [
    {
     "name": "stdout",
     "output_type": "stream",
     "text": [
      "968.2 0.271624405007 [6367]\n"
     ]
    }
   ],
   "source": [
    "#define the X% transmission points where we want to start/end the scan\n",
    "min_trans=0.01 # so 1% transmission point\n",
    "\n",
    "# Also find the wavelength of central bandpass transmission\n",
    "# this is roughly the half way point of the filter, defined\n",
    "# by the where the total transmission is greater than a given \n",
    "# percentage \n",
    "\n",
    "cen_ind, = np.where(total_trans0[:,1] > 0.1) # data with >10% throughput\n",
    "central_trans_value=sorted(total_trans0[cen_ind,1])[int(round(cen_ind.size / 2))]\n",
    "central_trans_wave=sorted(total_trans0[cen_ind,0])[int(round(cen_ind.size / 2))]\n",
    "central_value_ind,=np.where(total_trans0[:,1] == central_trans_value)\n",
    "\n",
    "print(central_trans_wave,central_trans_value,central_value_ind)"
   ]
  },
  {
   "cell_type": "code",
   "execution_count": 73,
   "metadata": {},
   "outputs": [
    {
     "data": {
      "image/png": "[encoded data removed]",
      "text/plain": [
       "<Figure size 432x288 with 1 Axes>"
      ]
     },
     "metadata": {},
     "output_type": "display_data"
    },
    {
     "name": "stdout",
     "output_type": "stream",
     "text": [
      "minimum scan wavelength is is 880 nm, based on minimum total transmission point of 0.01%\n",
      "maximum scan wavelength is is 1081 nm, based on minimum total transmission point of 0.01%\n"
     ]
    }
   ],
   "source": [
    "# smooth by a few nm to help find the desired transmission boundary % level\n",
    "# helps ensure no double values occur\n",
    "smoothed_filter_profile = np.convolve(total_trans0[:,1], [0,1,1,1,0], mode='same')\n",
    "\n",
    "if 1==1:\n",
    "    plt.plot(total_trans0[:,0],total_trans0[:,1],'-r')\n",
    "    plt.show()\n",
    "    plt.close()\n",
    "    \n",
    "#separate into red and blue sides of the filter for ease of code comprehension\n",
    "blue_half_of_filter = smoothed_filter_profile[0:central_value_ind[0]]\n",
    "red_half_of_filter = smoothed_filter_profile[central_value_ind[0]::]\n",
    "#find closest value to min_trans on blue and red edge\n",
    "blue_side_edge_wave_ind = (np.abs(blue_half_of_filter-min_trans)).argmin()\n",
    "red_side_edge_wave_ind = (np.abs(red_half_of_filter-min_trans)).argmin()\n",
    "\n",
    "print('minimum scan wavelength is is %d nm, based on minimum total transmission point of %0.2f%%' \n",
    "      % (total_trans0[blue_side_edge_wave_ind,0],min_trans) )\n",
    "print('maximum scan wavelength is is %d nm, based on minimum total transmission point of %0.2f%%' \n",
    "      % (total_trans0[central_value_ind+red_side_edge_wave_ind,0],min_trans) )"
   ]
  },
  {
   "cell_type": "code",
   "execution_count": 74,
   "metadata": {},
   "outputs": [
    {
     "name": "stdout",
     "output_type": "stream",
     "text": [
      "count rate for y-band is 5036 photons/s/pixel\n"
     ]
    },
    {
     "data": {
      "image/png": "[encoded data removed]",
      "text/plain": [
       "<Figure size 432x288 with 1 Axes>"
      ]
     },
     "metadata": {},
     "output_type": "display_data"
    }
   ],
   "source": [
    "# define filter bandpass range\n",
    "filter_bandpass = np.arange(total_trans0[blue_side_edge_wave_ind,0],\n",
    "                            total_trans0[central_value_ind[0]+red_side_edge_wave_ind,0])\n",
    "\n",
    "# load detector efficiency\n",
    "det_filename='LSST_response_files/detector_120227.dat'\n",
    "detector0 = np.genfromtxt(det_filename, delimiter='',comments='#') # wavelength [nm], Transmission\n",
    "#interpolate to filter_bandpass\n",
    "detector_efficiency = scipy.interpolate.griddata(detector0[:,0],detector0[:,1], filter_bandpass, method='linear')\n",
    "\n",
    "# load the filter curve\n",
    "filename='LSST_response_files/filter_'+filter+'.dat'\n",
    "filter_trans0 = np.genfromtxt(filename, delimiter=' ',comments='#') # wavelengt\n",
    "#get filter transmission for this bandpass\n",
    "filter_transmission = scipy.interpolate.griddata(filter_trans0[:,0],\n",
    "                                                 filter_trans0[:,1], filter_bandpass, method='linear')\n",
    "\n",
    "# determine filterless and detectorless count rate average\n",
    "filterless_count_rate = scipy.interpolate.griddata(laser_wave,filterless_flux_per_pixel_per_second_per_nm,\n",
    "                                                   filter_bandpass, method='linear') # ph/pix/s/nm\n",
    "count_rate = filterless_count_rate * filter_transmission * detector_efficiency # ph/pix/s/nm\n",
    "\n",
    "#remove nans and integrate\n",
    "integrated_count_rate = simps(count_rate[~np.isnan(count_rate)], filter_bandpass[~np.isnan(count_rate)])\n",
    "print('count rate for %s-band is %d photons/s/pixel' % (filter ,integrated_count_rate) )\n",
    "\n",
    "# plot measured flux\n",
    "if 1 == 1:\n",
    "    plt.plot(filter_bandpass,count_rate,'-g')\n",
    "    plt.title( 'Incident Flux SED of broadband flat',fontsize=20)\n",
    "    plt.ylabel('count rate [ph/pix/s/nm]',fontsize=15)\n",
    "    plt.xlabel('wavelength [nm]',fontsize=15)\n",
    "    plt.show()\n",
    "    plt.close()"
   ]
  },
  {
   "cell_type": "code",
   "execution_count": 76,
   "metadata": {},
   "outputs": [
    {
     "name": "stdout",
     "output_type": "stream",
     "text": [
      "y-band will take 3.3 minutes for an SNR of 1000\n"
     ]
    }
   ],
   "source": [
    "# determine how long it will take to collect med_SNR^2 of photons\n",
    "time = (med_SNR**2) / integrated_count_rate / 3600  # in hours\n",
    "print('%s-band will take %0.1f minutes for an SNR of %d' % (filter,time*60,med_SNR) )"
   ]
  },
  {
   "cell_type": "code",
   "execution_count": null,
   "metadata": {},
   "outputs": [],
   "source": []
  },
  {
   "cell_type": "code",
   "execution_count": 15,
   "metadata": {},
   "outputs": [
    {
     "name": "stdout",
     "output_type": "stream",
     "text": [
      "White light exitance requirement is: 3.00E-03 [mJ/arcsec^2]\n",
      "White light exitance requirement converts to: 3.60E-14 [W/m2/um/arcsec^2]\n",
      "White light exitance requirement from the screen becomes: 7.33E-13 [W/um/arcsec^2]\n"
     ]
    }
   ],
   "source": [
    "# Requirement TLS-REQ-0096 states we need an exitance from the screen of 3 milli-Jansky's per arcsec^2.\n",
    "# Surely this means as measured on the detector\n",
    "TLS_REQ_0096 = 3e-3 # [mJ/arcsec2]\n",
    "print('White light exitance requirement is: %.2E [mJ/arcsec^2]' % TLS_REQ_0096)\n",
    "# So what is this in W/cm2/arcsec2 for the screen?\n",
    "# 1 Jy =  10-26 Watts m-2 Hz-1 \n",
    "test_wavelength_m = 500e-9 # [m]\n",
    "# so we need to convert F_nu to F_lambda, which means multiplying by c/lambda^2\n",
    "# to get exitance in SI you do the following unit conversion \n",
    "# [Jy/arcsec^2 * W/m2/Hz/Jy * c/lambda^2] = W/m2/um/arcsec^2\n",
    "exitance_SI = 3e-3 * 10.0**(-26.0) * (3e8 / ( test_wavelength_m)**2)  * 1e-6 # W/m2/um/arcsec^2\n",
    "print('White light exitance requirement converts to: %.2E [W/m2/um/arcsec^2]' % exitance_SI)\n",
    "# now multiply by the effective area of the screen\n",
    "outer_diam = 9.27 # [m] \n",
    "inner_diam = 4.18 # [m]\n",
    "area = np.pi * ((outer_diam-inner_diam)/2)**2 #[m2]\n",
    "exitance2= exitance_SI * area\n",
    "print('White light exitance requirement from the screen becomes: %.2E [W/um/arcsec^2]' % exitance2)"
   ]
  },
  {
   "cell_type": "markdown",
   "metadata": {},
   "source": [
    "### If we assume that the requirement means as measured at the detector"
   ]
  },
  {
   "cell_type": "code",
   "execution_count": 19,
   "metadata": {},
   "outputs": [
    {
     "name": "stdout",
     "output_type": "stream",
     "text": [
      "Photons/pix/s is 5159\n",
      "Time to get SNR = 1000 is 193 [seconds]\n"
     ]
    }
   ],
   "source": [
    "h=6.62607004e-34 # m2 kg / s\n",
    "c=3e8 # m/s\n",
    "\n",
    "#exitance2 is in W/um/arcsec^2\n",
    "plate_scale = 0.2 # arcsec/pixel\n",
    "filter_bandpass = 100e-9 * 1e6 # [um] or 100 nm \n",
    "filter_central_wavelength_m = 350e-9 # [m]\n",
    "photon_rate = exitance2 * (filter_bandpass * (plate_scale**2) )  / ( (h*c) / (filter_central_wavelength_m) )  # ph/s/pix\n",
    "\n",
    "print('Photons/pix/s is %d' % photon_rate)\n",
    "print('Time to get SNR = 1000 is %d [seconds]' % ((1000.0**2)/photon_rate) )"
   ]
  },
  {
   "cell_type": "code",
   "execution_count": 43,
   "metadata": {},
   "outputs": [
    {
     "name": "stdout",
     "output_type": "stream",
     "text": [
      "ugriz rates in Photons/pix/s is:\n",
      "3762.0 10368.0 12734.0 14125.0 13201.0 10608.0\n",
      "ugriz Time to get SNR = 1000 is [seconds]:\n",
      "266.0 96.0 79.0 71.0 76.0 94.0\n"
     ]
    }
   ],
   "source": [
    "# now the same thing using arrays for each filter\n",
    "filter_bandpass_arr_um = np.array( [395.0-324,552-405, 691-552, 818-691, 921-818, 997-922]) * 1e-9 * 1e6 # [um]\n",
    "filter_central_wave_arr_m = np.array([395+324,552+405, 691+552, 818+691, 921+818, 997+922])/2 * 1e-9 # [m]\n",
    "\n",
    "photon_rate_arr = exitance2 * (filter_bandpass_arr_um * (plate_scale**2) )  / ( (h*c) / (filter_central_wave_arr_m) )  # ph/s/pix\n",
    "\n",
    "print('ugriz rates in Photons/pix/s is:')\n",
    "print(*np.round(photon_rate_arr))\n",
    "print('ugriz Time to get SNR = 1000 is [seconds]:')\n",
    "print(*np.round((1000.0**2)/photon_rate_arr))"
   ]
  },
  {
   "cell_type": "code",
   "execution_count": null,
   "metadata": {
    "collapsed": true
   },
   "outputs": [],
   "source": []
  },
  {
   "cell_type": "code",
   "execution_count": null,
   "metadata": {
    "collapsed": true
   },
   "outputs": [],
   "source": []
  },
  {
   "cell_type": "markdown",
   "metadata": {},
   "source": [
    "What if the requirement means exitant from the screen? "
   ]
  },
  {
   "cell_type": "code",
   "execution_count": 20,
   "metadata": {},
   "outputs": [
    {
     "name": "stdout",
     "output_type": "stream",
     "text": [
      "Screen output is: 2.44E-12 [W/arcsec**2]\n"
     ]
    }
   ],
   "source": [
    "# total exitance power for a 1 W illumination is: 8.15E-1 Watts, assuming zero loss on the reflector\n",
    "# so just assume a loss of 0.8 from aluminum\n",
    "input_power= 1.0 # [Watts]\n",
    "efficiency = 8.15e-1 * 0.8\n",
    "# but this power gets spread over 2*pi steradians\n",
    "# 1 steradian = 4.25 x 10^10 arcsec2\n",
    "screen_output = input_power * efficiency / (2*np.pi) * 1.0 / 4.25e10 # W/arcsec2\n",
    "print('Screen output is: %.2E [W/arcsec**2]' % screen_output)"
   ]
  },
  {
   "cell_type": "code",
   "execution_count": 17,
   "metadata": {},
   "outputs": [
    {
     "name": "stdout",
     "output_type": "stream",
     "text": [
      "Assuming 100% efficiency of the illuminator can be captured, then the bulb intesity for a 10 nm bandpass must be 3.33E+02 [W]\n"
     ]
    }
   ],
   "source": [
    "# So then this means that for the test wavelength, we need a bulb intensity of:\n",
    "bandpass_um = 10e-9 * 1e6 # bandpass in microns [um]\n",
    "\n",
    "bulb_intensity = screen_output/input_power / exitance2 / bandpass_um\n",
    "\n",
    "print(\"Assuming 100%% efficiency of the illuminator can be captured, then the bulb intesity for a %d nm bandpass must be %0.2E [W]\" % (bandpass_um*1000, bulb_intensity) )"
   ]
  }
 ],
 "metadata": {
  "anaconda-cloud": {},
  "kernelspec": {
   "display_name": "Python [default]",
   "language": "python",
   "name": "python3"
  },
  "language_info": {
   "codemirror_mode": {
    "name": "ipython",
    "version": 3
   },
   "file_extension": ".py",
   "mimetype": "text/x-python",
   "name": "python",
   "nbconvert_exporter": "python",
   "pygments_lexer": "ipython3",
   "version": "3.5.5"
  }
 },
 "nbformat": 4,
 "nbformat_minor": 1
}
