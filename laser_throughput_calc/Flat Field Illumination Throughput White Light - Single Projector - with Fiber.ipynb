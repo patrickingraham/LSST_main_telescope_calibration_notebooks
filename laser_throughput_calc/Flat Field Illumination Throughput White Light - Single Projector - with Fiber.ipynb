{
 "cells": [
  {
   "cell_type": "markdown",
   "metadata": {},
   "source": [
    "This notebook is to determine the required laser power to illuminate the flat field screen\n",
    "\n",
    "currently in Python 3"
   ]
  },
  {
   "cell_type": "code",
   "execution_count": 1,
   "metadata": {
    "collapsed": false
   },
   "outputs": [],
   "source": [
    "import numpy as np\n",
    "import math\n",
    "\n",
    "import matplotlib.pyplot as plt\n",
    "import scipy.interpolate\n",
    "from scipy.integrate import simps"
   ]
  },
  {
   "cell_type": "code",
   "execution_count": 2,
   "metadata": {
    "collapsed": true
   },
   "outputs": [],
   "source": [
    "# declare constants\n",
    "h = 6.626e-34 # m2 kg / s\n",
    "c = 3e8 # m/s"
   ]
  },
  {
   "cell_type": "code",
   "execution_count": 3,
   "metadata": {
    "collapsed": false
   },
   "outputs": [],
   "source": [
    "def get_white_light_source(self):\n",
    "    import numpy as np\n",
    "    \n",
    "    # check to make sure self is a string\n",
    "    #MUST INCLUDE\n",
    "    \n",
    "    # make self lowercase\n",
    "    self = self.lower()\n",
    "    \n",
    "    if self == 'energetiq_99xfc_600um_fiber':\n",
    "        # Load Energetiq-99XFC profile output profile (no fiber)\n",
    "        # no actual profile, just guessing from the curve in the PDF file \n",
    "        filename='/Users/patrickingraham/LSST/laser_throughput_calc/Laser_power_data/Energetiq-99XFC.csv'\n",
    "        energetiq_99xfc_data = np.genfromtxt(filename,\n",
    "                          delimiter=',',comments='#') # wavelength [nm], Transmission\n",
    "        #curve assumes a 230um diameter fiber, 1m in length\n",
    "        # can use a 600µm fibre which then increases flux by a factor of ~2.25.\n",
    "        fiber_diameter_multiplier = 2.25\n",
    "\n",
    "        energetiq_99xfc_wave =      np.concatenate((energetiq_99xfc_data[:,0],np.array([1200]))) # nm\n",
    "        energetiq_99xfc_flux_W_nm =  np.concatenate((energetiq_99xfc_data[:,1],\n",
    "                                             np.array([25])))*1e-6*fiber_diameter_multiplier # in watts/nm\n",
    "        \n",
    "        data={\"wave_nm\":energetiq_99xfc_wave, \"flux_W_nm\":energetiq_99xfc_flux_W_nm,\n",
    "              \"fiber_diameter_multiplier\":fiber_diameter_multiplier}\n",
    "        return(data)\n",
    "\n",
    "    \n",
    "    if self == 'energetiq_99x':\n",
    "        # Load Energetiq-99X profile output profile\n",
    "        # profile esimated from the curve in the PDF file \n",
    "        filename='/Users/patrickingraham/LSST/laser_throughput_calc/Laser_power_data/Energetiq-99X.csv'\n",
    "        energetiq_99x_data = np.genfromtxt(filename,\n",
    "                          delimiter=',',comments='#') # wavelength [nm], Transmission\n",
    "\n",
    "        energetiq_99x_wave =      np.concatenate((energetiq_99x_data[:,0],np.array([1000.0]))) # nm\n",
    "        energetiq_99x_flux_mW_nm_mm_sr =  np.concatenate((energetiq_99x_data[:,1],\n",
    "                                             np.array([0.0]))) # in mW/nm/sr/mm^2\n",
    "        print(\"Assuming an NA beam of 0.48, and an optic of 1.4 inch diameter catching the beam\")\n",
    "        # want watts/nm\n",
    "        NA=0.48\n",
    "        angle_deg=np.arcsin(NA)*180/np.pi\n",
    "        print(angle_deg)\n",
    "        beam_diam_mm=1.4*25.4 # assume optic is 1.4 inch beam diameter and convert to mm - optic is 1.5' true diam\n",
    "\n",
    "        distance = (beam_diam_mm/2) / np.tan(angle_deg*np.pi/180) # mm\n",
    "        #print(distance)\n",
    "        source_area=np.pi* (60e-3)/2 * (140e-3)/2  # mm^2 using 60 μm x 140 μm FWHM plasma\n",
    "        solid_angle= source_area / distance**2\n",
    "        collecting_area=np.pi * (beam_diam_mm/2)**2 # in mm^2\n",
    "\n",
    "        energetiq_99x_flux_W_nm = energetiq_99x_flux_mW_nm_mm_sr * collecting_area * solid_angle / 1000 # W/nm\n",
    "        \n",
    "        fiber_diameter_multiplier=1.0 # just for completeness - not useful for this\n",
    "        data={\"wave_nm\":energetiq_99x_wave, \"flux_W_nm\":energetiq_99x_flux_W_nm,\n",
    "              \"fiber_diameter_multiplier\":fiber_diameter_multiplier}\n",
    "        #print(energetiq_99x_flux_W_nm)\n",
    "        return(data)\n",
    "    \n",
    "    if '-c1' in self:\n",
    "        filename='/Users/patrickingraham/LSST/laser_throughput_calc/Laser_power_data/white_light_sources/C1_CollimatedHighPowerLEDs_ScaledSpectra_8.csv'\n",
    "\n",
    "        source_raw_data = np.genfromtxt(filename,skip_header=4,\n",
    "                          delimiter=',',comments='#') # wavelength [nm], Transmission\n",
    "        source_labels_data = np.genfromtxt(filename,max_rows=1, dtype=str,\n",
    "                          delimiter=',',comments='#') # wavelength [nm], Transmission\n",
    "        #print(source_labels_data)\n",
    "        # make labels all lowercase\n",
    "        source_labels_data = [element.lower() for element in source_labels_data]\n",
    "        # find where the source is in the csv file\n",
    "        ind=(source_labels_data).index(self) \n",
    "        #print(ind)\n",
    "        #print(source_labels_data[ind])\n",
    "        wave_nm = source_raw_data[:,ind]\n",
    "        flux_W_nm = source_raw_data[:,ind+1] / 1000.0 # input is in mW\n",
    "        fiber_diameter_multiplier=1.0 # junk input\n",
    "        data={\"wave_nm\":wave_nm, \"flux_W_nm\":flux_W_nm,\n",
    "              \"fiber_diameter_multiplier\":fiber_diameter_multiplier}\n",
    "        return(data)\n",
    "    \n",
    "    print('Lightsource not found, options are:')\n",
    "    print('energetiq_99xfc_600um_fiber')\n",
    "    print('energetiq_99x')\n",
    "    return()\n"
   ]
  },
  {
   "cell_type": "code",
   "execution_count": null,
   "metadata": {
    "collapsed": true
   },
   "outputs": [],
   "source": []
  },
  {
   "cell_type": "markdown",
   "metadata": {},
   "source": [
    "### Load laser output profile"
   ]
  },
  {
   "cell_type": "code",
   "execution_count": 5,
   "metadata": {
    "collapsed": false
   },
   "outputs": [
    {
     "name": "stderr",
     "output_type": "stream",
     "text": [
      "//anaconda/lib/python3.5/site-packages/matplotlib/axes/_axes.py:531: UserWarning: No labelled objects found. Use label='...' kwarg on individual plots.\n",
      "  warnings.warn(\"No labelled objects found. \"\n"
     ]
    },
    {
     "data": {
      "image/png": "[encoded data removed]",
      "text/plain": [
       "<matplotlib.figure.Figure at 0x10fd376d8>"
      ]
     },
     "metadata": {},
     "output_type": "display_data"
    },
    {
     "name": "stdout",
     "output_type": "stream",
     "text": [
      "0 photons at 324 nm\n"
     ]
    }
   ],
   "source": [
    "laser = 'energetiq_99xfc_600um_fiber'\n",
    "laser = 'M365LP1-C1'\n",
    "laser = 'M385L2-C1'\n",
    "source_data=get_white_light_source(laser)\n",
    "\n",
    "laser_flux_W_nm=source_data['flux_W_nm']\n",
    "laser_wave = source_data['wave_nm']\n",
    "fiber_diameter_multiplier=source_data['fiber_diameter_multiplier']\n",
    "\n",
    "if 1 == 1:\n",
    "    plt.xlabel('wavelength [nm]')\n",
    "    \n",
    "    if laser == 'energetiq_99xfc_600um_fiber':\n",
    "        conv_fact=1e6\n",
    "        plt.ylim([1,1000])\n",
    "        plt.xlim([180,1210])\n",
    "        plt.ylabel('Spectral Power [uW/nm]')\n",
    "        plt.title(laser+' typical performance for 230um fiber')\n",
    "        plt.semilogy(laser_wave,laser_flux_W_nm*conv_fact/fiber_diameter_multiplier,'-g',label=\"Power vs wavelengh\")\n",
    "        \n",
    "    if laser == 'energetiq_99x':\n",
    "        conv_fact=1.0/(collecting_area * solid_angle / 1000)\n",
    "        \n",
    "        plt.ylim([0.001,100])\n",
    "        plt.xlim([170,800])\n",
    "        plt.ylabel('Spectral Radiance [mW/nm/sr/mm^2]')\n",
    "        plt.title(laser)\n",
    "        plt.semilogy(laser_wave,laser_flux_W_nm*conv_fact/fiber_diameter_multiplier,'-g',label=\"Power vs wavelengh\")\n",
    "        \n",
    "    if '-c1' in laser.lower():\n",
    "        plt.ylim([0,60])\n",
    "        plt.xlim([350,1050])\n",
    "        plt.ylabel('Spectral Power [mW/nm]')\n",
    "        plt.title(laser+' from Thorlabs')\n",
    "        plt.plot(laser_wave,laser_flux_W_nm*1000)\n",
    "    \n",
    "    \n",
    "    \n",
    "    plt.legend()\n",
    "    plt.show()\n",
    "    plt.close()\n",
    "    \n",
    "        \n",
    "# assume 100 percent effiency and convert to photons\n",
    "ind=50 # indice of interest\n",
    "number_of_photons = laser_flux_W_nm / (h*c/(laser_wave*1e-9))  # photons per second per nm\n",
    "print(\"%.4g photons at %d nm\" % (number_of_photons[ind], laser_wave[ind]) )"
   ]
  },
  {
   "cell_type": "markdown",
   "metadata": {},
   "source": [
    "### Load beam transfer bench profile"
   ]
  },
  {
   "cell_type": "code",
   "execution_count": 6,
   "metadata": {
    "collapsed": false
   },
   "outputs": [],
   "source": [
    "# bench depends on light source\n",
    "if laser == 'energetiq_99xfc_600um_fiber':\n",
    "        Flux_into_fiber = laser_flux_W_nm  # watts/nm\n",
    "        \n",
    "if laser == 'energetiq_99x':\n",
    "        Flux_into_fiber = laser_flux_W_nm  # watts/nm"
   ]
  },
  {
   "cell_type": "code",
   "execution_count": null,
   "metadata": {
    "collapsed": false
   },
   "outputs": [],
   "source": []
  },
  {
   "cell_type": "code",
   "execution_count": 22,
   "metadata": {
    "collapsed": false
   },
   "outputs": [
    {
     "name": "stdout",
     "output_type": "stream",
     "text": [
      "fiber attenuation is 0.990 at 600 nm\n"
     ]
    }
   ],
   "source": [
    "\n",
    "# Fiber efficiency\n",
    "# plots are in weird units (dB/km) - want to put that into transmission per meter.\n",
    "# data from http://www.ceramoptec.de/products/fibers/optran-uv-wf.html\n",
    "\n",
    "fiber_distance = 5 # meters\n",
    "fiber_wave= np.array([300,350,400,500,600,700,800,900,950,1000,1100.0,1200.0]) # in nm\n",
    "fiber_att_db_km0 = np.array([140, 70, 35, 15,8.5,  6,  5,  5,6.5, 3.5,   3,2]) # in db/km\n",
    "# interpolate to have the same wavelengths as nt_242\n",
    "fiber_att_db_km = scipy.interpolate.griddata(fiber_wave, fiber_att_db_km0, laser_wave, method='linear')\n",
    "# convert to transmission over the distance\n",
    "fiber_att = (10**(-fiber_att_db_km/1000*fiber_distance/10.0)) # transmission per m\n",
    "\n",
    "if 0 == 1:\n",
    "    plt.plot(laser_wave,fiber_att,'-g')\n",
    "    #plt.plot(fiber_wave, fiber_att_db_km0,'-b')\n",
    "    plt.title( 'Fiber Transmission over %d meters' % fiber_distance)\n",
    "    plt.ylabel('Fiber Transmission over %d meters' % fiber_distance)\n",
    "    plt.xlabel('wavelength [nm]')\n",
    "    plt.xlim([300,1300])\n",
    "    plt.legend()\n",
    "    #plt.ylim([0,1])\n",
    "    plt.show()\n",
    "    plt.close()\n",
    "\n",
    "Flux_out_of_fiber = Flux_into_fiber * fiber_att # watts/nm\n",
    "\n",
    "print(\"fiber attenuation is %0.3f at %d nm\" % (fiber_att[ind],laser_wave[ind]))"
   ]
  },
  {
   "cell_type": "markdown",
   "metadata": {},
   "source": [
    "### Multiply by end throughput calculation from Ming/Zemax/FRED (660nm)"
   ]
  },
  {
   "cell_type": "code",
   "execution_count": 23,
   "metadata": {
    "collapsed": false
   },
   "outputs": [],
   "source": [
    "# throughput depends on light source baffling - not currently included in Ming's estimate\n",
    "if laser == 'energetiq_99xfc_600um_fiber':\n",
    "        mask_throughput=1 # Guess\n",
    "        \n",
    "if laser == 'energetiq_99x':\n",
    "        mask_throughput=0.1 # Guess\n",
    "\n",
    "# ming says 0.02% - but that's probably optimistic - assuming 0.01% - not accounting for retro-reflector\n",
    "FF_system_efficiency = mask_throughput* 0.01/100.  # screen photons to detector - 3 Al mirrors - no silver\n",
    "flux_hitting_focal_plane = Flux_out_of_fiber * FF_system_efficiency # watts/nm"
   ]
  },
  {
   "cell_type": "markdown",
   "metadata": {},
   "source": [
    "### Remove filter dependence"
   ]
  },
  {
   "cell_type": "code",
   "execution_count": 24,
   "metadata": {
    "collapsed": false
   },
   "outputs": [],
   "source": [
    "# must divide by filter response at 660nm first - then multiply by the desired filters\n",
    "r_filter_trans0 = np.genfromtxt('/Users/patrickingraham/LSST/laser_throughput_calc/throughputs/baseline/filter_r.dat',\n",
    "                          delimiter=' ',comments='#') # wavelength [nm], Transmission\n",
    "r_filter_trans_660nm = scipy.interpolate.griddata(r_filter_trans0[:,0],r_filter_trans0[:,1], 660, method='linear')\n",
    "\n",
    "filterless_flux_hitting_focal_plane = flux_hitting_focal_plane / r_filter_trans_660nm # watts/nm\n"
   ]
  },
  {
   "cell_type": "markdown",
   "metadata": {},
   "source": [
    "### Convert from energy to photons - get photons per pixel"
   ]
  },
  {
   "cell_type": "code",
   "execution_count": 25,
   "metadata": {
    "collapsed": false
   },
   "outputs": [],
   "source": [
    "filterless_flux_hitting_focal_plane_photons = filterless_flux_hitting_focal_plane / (h*c/(laser_wave*1e-9)) # photons per second per nm\n",
    "#want the number of photons per second hitting eachpixel.\n",
    "#Flux_hitting_focal_plane_photons[ind]"
   ]
  },
  {
   "cell_type": "code",
   "execution_count": 26,
   "metadata": {
    "collapsed": false
   },
   "outputs": [
    {
     "name": "stdout",
     "output_type": "stream",
     "text": [
      "Filterless photons per pixel per second 14 at 600 nm\n"
     ]
    }
   ],
   "source": [
    "total_number_of_pixels = 3.2e9 # 3.2 gigapixels\n",
    "full_well = 130000 # electrons   - this is actually from DECam..\n",
    "\n",
    "filterless_flux_per_pixel_per_second_per_nm = filterless_flux_hitting_focal_plane_photons / total_number_of_pixels \n",
    "print(\"Filterless photons per pixel per second %d at %d nm\" % (filterless_flux_per_pixel_per_second_per_nm[ind],laser_wave[ind]) )"
   ]
  },
  {
   "cell_type": "code",
   "execution_count": 27,
   "metadata": {
    "collapsed": false
   },
   "outputs": [
    {
     "data": {
      "image/png": "[encoded data removed]",
      "text/plain": [
       "<matplotlib.figure.Figure at 0x1101eca20>"
      ]
     },
     "metadata": {},
     "output_type": "display_data"
    }
   ],
   "source": [
    "if 1 == 1:\n",
    "    plt.plot(laser_wave,filterless_flux_per_pixel_per_second_per_nm,'-g')\n",
    "    plt.title( 'Filterless Incident flux on individual detector pixels',fontsize=15)\n",
    "    plt.ylabel('Filterless Flux [ph/pix/s/nm]',fontsize=15)\n",
    "    plt.xlabel('wavelength [nm]',fontsize=20)\n",
    "    plt.xlim([320,1125])\n",
    "    #plt.text(500, 5, '**Assumes NO FILTER**')\n",
    "    plt.show()\n",
    "    plt.close()"
   ]
  },
  {
   "cell_type": "markdown",
   "metadata": {
    "collapsed": true
   },
   "source": [
    "### Calculate time to complete a broadband flat"
   ]
  },
  {
   "cell_type": "code",
   "execution_count": 28,
   "metadata": {
    "collapsed": false
   },
   "outputs": [],
   "source": [
    "# assume a required MEDIAN SNR for a given wavelength\n",
    "med_SNR=1000.0\n",
    "\n",
    "# load a filter (use total transmission since that is what actually\n",
    "# matters and the filters have leaks that confuse the algorithm)\n",
    "filter = 'r'  # ugrizy\n",
    "filename='/Users/patrickingraham/LSST/laser_throughput_calc/throughputs/baseline/total_'+filter+'.dat'\n",
    "total_trans000 = np.genfromtxt(filename, delimiter=' ',comments='#') # wavelength [nm], Transmission\n",
    "#find nans and remove them\n",
    "good = ~np.isnan(total_trans000[:,1])\n",
    "total_trans0=np.transpose(np.array([total_trans000[good,0], total_trans000[good,1]]))\n"
   ]
  },
  {
   "cell_type": "code",
   "execution_count": 29,
   "metadata": {
    "collapsed": false
   },
   "outputs": [
    {
     "name": "stdout",
     "output_type": "stream",
     "text": [
      "blue side minimum total transmission (0.01) wavelength is 523 nm\n",
      "red side minimum total transmission (0.01) wavelength is 706 nm\n"
     ]
    },
    {
     "name": "stderr",
     "output_type": "stream",
     "text": [
      "//anaconda/lib/python3.5/site-packages/ipykernel/__main__.py:22: VisibleDeprecationWarning: converting an array with ndim > 0 to an index will result in an error in the future\n",
      "//anaconda/lib/python3.5/site-packages/ipykernel/__main__.py:23: VisibleDeprecationWarning: converting an array with ndim > 0 to an index will result in an error in the future\n",
      "//anaconda/lib/python3.5/site-packages/ipykernel/__main__.py:24: VisibleDeprecationWarning: converting an array with ndim > 0 to an index will result in an error in the future\n",
      "//anaconda/lib/python3.5/site-packages/ipykernel/__main__.py:25: VisibleDeprecationWarning: converting an array with ndim > 0 to an index will result in an error in the future\n"
     ]
    }
   ],
   "source": [
    "\n",
    "#print filter_trans0[0:100,:]\n",
    "#find the X% transmission line \n",
    "min_trans=0.01\n",
    "# first find the wavelength of median bandpass transmission\n",
    "#cen_ind, = np.where(total_trans0[:,1] == (np.median(total_trans0[:,1] > 0.5)))\n",
    "cen_ind, = np.where(total_trans0[:,1] > 0.3)\n",
    "median_trans_value=sorted(total_trans0[cen_ind,1])[int(round(cen_ind.size / 2))]\n",
    "#print median_trans_value\n",
    "median_value_ind,=np.where(total_trans0[:,1] == median_trans_value)\n",
    "#print median_value_ind\n",
    "#print total_trans0[median_value_ind,0]\n",
    "\n",
    "# smooth by a few nm to help find the desired transmission boundary % level\n",
    "tmp= np.convolve(total_trans0[:,1], [0,1,1,1,0], mode='same')\n",
    "\n",
    "if 0==1:\n",
    "    plt.plot(total_trans0[:,0],total_trans0[:,1],'-r')\n",
    "    plt.show()\n",
    "    plt.close()\n",
    "    \n",
    "blue_side_trans_ind2,=np.where( (abs(tmp[0:median_value_ind]-min_trans)) == \n",
    "                               (np.nanmin(abs(tmp[0:median_value_ind]-min_trans))) )\n",
    "red_side_trans_ind2,=np.where( (abs(tmp[median_value_ind::]-min_trans)) == \n",
    "                              (np.nanmin(abs(tmp[median_value_ind::]-min_trans))) )\n",
    "\n",
    "print('blue side minimum total transmission (%0.2f) wavelength is %d nm' % (min_trans,total_trans0[blue_side_trans_ind2,0]) )\n",
    "print('red side minimum total transmission (%0.2f) wavelength is %d nm' % (min_trans,total_trans0[median_value_ind+red_side_trans_ind2,0]) )\n"
   ]
  },
  {
   "cell_type": "code",
   "execution_count": 30,
   "metadata": {
    "collapsed": false
   },
   "outputs": [
    {
     "name": "stdout",
     "output_type": "stream",
     "text": [
      "count rate for r-band is 1753 photons/s/pixel\n"
     ]
    },
    {
     "data": {
      "image/png": "[encoded data removed]",
      "text/plain": [
       "<matplotlib.figure.Figure at 0x1101def28>"
      ]
     },
     "metadata": {},
     "output_type": "display_data"
    }
   ],
   "source": [
    "\n",
    "# define filter bandpass range\n",
    "filter_bandpass = np.arange(total_trans0[blue_side_trans_ind2,0],\n",
    "                            total_trans0[median_value_ind+red_side_trans_ind2,0])\n",
    "\n",
    "# load detector efficiency\n",
    "det_filename='/Users/patrickingraham/LSST/laser_throughput_calc/throughputs/baseline/detector_120227.dat'\n",
    "detector0 = np.genfromtxt(det_filename, delimiter='',comments='#') # wavelength [nm], Transmission\n",
    "#interpolate to filter_bandpass\n",
    "detector_efficiency = scipy.interpolate.griddata(detector0[:,0],detector0[:,1], filter_bandpass, method='linear')\n",
    "\n",
    "# load the filter curve\n",
    "filename='/Users/patrickingraham/LSST/laser_throughput_calc/throughputs/baseline/filter_'+filter+'.dat'\n",
    "filter_trans0 = np.genfromtxt(filename, delimiter=' ',comments='#') # wavelengt\n",
    "#get filter transmission for this bandpass\n",
    "filter_transmission = scipy.interpolate.griddata(filter_trans0[:,0],\n",
    "                                                 filter_trans0[:,1], filter_bandpass, method='linear')\n",
    "\n",
    "# determine filterless and detectorless count rate average\n",
    "filterless_count_rate = scipy.interpolate.griddata(laser_wave,filterless_flux_per_pixel_per_second_per_nm,\n",
    "                                                   filter_bandpass, method='linear') # ph/pix/s/nm\n",
    "count_rate = filterless_count_rate * filter_transmission * detector_efficiency # ph/pix/s/nm\n",
    "\n",
    "\n",
    "integrated_count_rate = simps(count_rate, filter_bandpass)\n",
    "print('count rate for %s-band is %d photons/s/pixel' % (filter ,integrated_count_rate) )\n",
    "\n",
    "# plot measured flux\n",
    "if 1 == 1:\n",
    "    plt.plot(filter_bandpass,count_rate,'-g')\n",
    "    plt.title( 'Incident Flux SED of broadband flat',fontsize=20)\n",
    "    plt.ylabel('count rate [ph/pix/s/nm]',fontsize=15)\n",
    "    plt.xlabel('wavelength [nm]',fontsize=15)\n",
    "    plt.show()\n",
    "    plt.close()"
   ]
  },
  {
   "cell_type": "code",
   "execution_count": 31,
   "metadata": {
    "collapsed": false
   },
   "outputs": [
    {
     "name": "stdout",
     "output_type": "stream",
     "text": [
      "r-band will take 0.2 hours for an median SNR of 1000\n"
     ]
    }
   ],
   "source": [
    "\n",
    "# determine how long it will take to collect med_SNR^2 of photons\n",
    "time = (med_SNR**2) / integrated_count_rate / 3600  # in hours\n",
    "print('%s-band will take %0.1f hours for an median SNR of %d' % (filter,time,med_SNR) )\n",
    "\n"
   ]
  },
  {
   "cell_type": "code",
   "execution_count": null,
   "metadata": {
    "collapsed": true
   },
   "outputs": [],
   "source": []
  },
  {
   "cell_type": "code",
   "execution_count": null,
   "metadata": {
    "collapsed": true
   },
   "outputs": [],
   "source": []
  },
  {
   "cell_type": "code",
   "execution_count": null,
   "metadata": {
    "collapsed": true
   },
   "outputs": [],
   "source": []
  }
 ],
 "metadata": {
  "anaconda-cloud": {},
  "kernelspec": {
   "display_name": "Python [default]",
   "language": "python",
   "name": "python3"
  },
  "language_info": {
   "codemirror_mode": {
    "name": "ipython",
    "version": 3
   },
   "file_extension": ".py",
   "mimetype": "text/x-python",
   "name": "python",
   "nbconvert_exporter": "python",
   "pygments_lexer": "ipython3",
   "version": "3.5.2"
  }
 },
 "nbformat": 4,
 "nbformat_minor": 0
}
