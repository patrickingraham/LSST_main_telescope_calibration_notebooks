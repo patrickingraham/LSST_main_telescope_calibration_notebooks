{
 "cells": [
  {
   "cell_type": "markdown",
   "metadata": {},
   "source": [
    "This notebook is to determine the required laser power to illuminate the flat field screen.\n",
    "This uses a single laser that is positioned on the dome. The light then goes into 15 meters of fiber to the center of the screen. Light is sent off a central reflector and down to the telescope.\n",
    "\n",
    "Currently in Python3 "
   ]
  },
  {
   "cell_type": "code",
   "execution_count": null,
   "metadata": {},
   "outputs": [],
   "source": [
    "import numpy as np\n",
    "import math\n",
    "\n",
    "import matplotlib.pyplot as plt\n",
    "import scipy.interpolate"
   ]
  },
  {
   "cell_type": "code",
   "execution_count": null,
   "metadata": {},
   "outputs": [],
   "source": [
    "# declare constants\n",
    "h = 6.626e-34 # m2 kg / s\n",
    "c = 3e8 # m/s"
   ]
  },
  {
   "cell_type": "code",
   "execution_count": null,
   "metadata": {},
   "outputs": [],
   "source": []
  },
  {
   "cell_type": "code",
   "execution_count": null,
   "metadata": {},
   "outputs": [],
   "source": [
    "# Load EKSPLA NT 242-SHG laser output profile\n",
    "# no actual profile, just guessing from the curve in the PDF file \n",
    "#nt242_wave =      np.array([300,320,350,399,400,420,480,500,540,610,700,800,950,1000,1200,1300.0]) # nm\n",
    "#nt242_energy_J =  np.array([ 20, 45, 30, 10, 45,470,460,460,300,180, 60,130,155, 160, 150,140])*1e-6 # in joules\n",
    "\n",
    "nt242_data = np.genfromtxt('Laser_power_data/PGD151_NT242.txt',\n",
    "                          delimiter='',comments='#') # wavelength [nm], Transmission\n",
    "\n",
    "nt242_wave = nt242_data[21::,0]\n",
    "nt242_energy_J = nt242_data[21::,1]*1e-6\n",
    "\n",
    "#print nt242_wave\n",
    "#print nt242_energy_J\n",
    "\n",
    "nt242_pulse_rate_Hz = 1000.0 # 1000 pulses per second\n",
    "\n",
    "nt242_flux_W = nt242_energy_J * nt242_pulse_rate_Hz # watts"
   ]
  },
  {
   "cell_type": "code",
   "execution_count": null,
   "metadata": {},
   "outputs": [],
   "source": [
    "# Load EKSPLA NT 230-SHG laser output profile\n",
    "# no actual profile, just guessing from the curve in the PDF file \n",
    "\n",
    "#nt230_sfg_data = np.genfromtxt('/Users/patrickingraham/LSST/laser_throughput_calc/Laser_power_data/nt230_sfg.csv',\n",
    "#                          delimiter=',',comments='#') # wavelength [nm], Transmission\n",
    "#nt230_signal_data = np.genfromtxt('/Users/patrickingraham/LSST/laser_throughput_calc/Laser_power_data/nt230_signal.csv',\n",
    "#                          delimiter=',',comments='#') # wavelength [nm], Transmission\n",
    "#nt230_idler_data = np.genfromtxt('/Users/patrickingraham/LSST/laser_throughput_calc/Laser_power_data/nt230_idler.csv',\n",
    "#                          delimiter=',',comments='#') # wavelength [nm], Transmission\n",
    "\n",
    "nt230_data_405nm = np.genfromtxt('Laser_power_data/PGD149_NT230_210nm_405nm.txt',\n",
    "                          delimiter='',comments='#') # wavelength [nm], Transmission\n",
    "nt230_data_709nm = np.genfromtxt('Laser_power_data/PGD149_NT230_405nm_709nm.txt',\n",
    "                          delimiter='',comments='#') # wavelength [nm], Transmission\n",
    "nt230_data_2600nm = np.genfromtxt('Laser_power_data/PGD149_NT230_710nm_2600nm.txt',\n",
    "                          delimiter='',comments='#') # wavelength [nm], Transmission\n",
    "\n",
    "nt230_wave0 =      np.concatenate((nt230_data_405nm[:,0],nt230_data_709nm[:,0],nt230_data_2600nm[:,0])) # nm\n",
    "nt230_energy_J0 =  np.concatenate((nt230_data_405nm[:,1],nt230_data_709nm[:,1],nt230_data_2600nm[:,1]))*1e-3 # in joules\n",
    "    \n",
    "nt230_wave=nt230_wave0[20:95]    \n",
    "nt230_energy_J = nt230_energy_J0[20:95]\n",
    "    \n",
    "nt230_pulse_rate_Hz = 100.0 # 100 pulses per second\n",
    "\n",
    "nt230_flux_W = nt230_energy_J * nt230_pulse_rate_Hz # watts"
   ]
  },
  {
   "cell_type": "markdown",
   "metadata": {},
   "source": [
    "### Load laser output profile"
   ]
  },
  {
   "cell_type": "code",
   "execution_count": null,
   "metadata": {},
   "outputs": [],
   "source": [
    "laser = 'nt242_pure'\n",
    "if laser == 'nt242':\n",
    "    laser_flux_W = nt242_flux_W\n",
    "    laser_wave = nt242_wave\n",
    "    laser_energy_J = nt242_energy_J\n",
    "if laser == 'nt242_pure':\n",
    "    laser_flux_W = nt242_flux_W * 0.7 # 30% absorbed from cleaning\n",
    "    laser_wave = nt242_wave\n",
    "    laser_energy_J = nt242_energy_J * 0.7\n",
    "if laser == 'nt230':\n",
    "    laser_flux_W = nt230_flux_W\n",
    "    laser_wave = nt230_wave\n",
    "    laser_energy_J = nt230_energy_J\n",
    "\n",
    "if 1 == 1:\n",
    "    if laser == 'nt242' or laser == 'nt242_pure':\n",
    "        conv_fact=1e6\n",
    "        plt.ylim([0,500])\n",
    "        plt.xlim([300,1100])\n",
    "        plt.ylabel('Pulse Energy, (uJ)')\n",
    "    if laser == 'nt230':\n",
    "        conv_fact=1e3\n",
    "        plt.ylim([0,11])\n",
    "        plt.ylabel('Pulse Energy, (mJ)')\n",
    "    plt.plot(laser_wave,laser_energy_J*conv_fact,'-g',label=\"Power vs wavelengh\")\n",
    "    plt.title('Spectral resolution function')\n",
    "    \n",
    "    plt.xlabel('wavelength [nm]')\n",
    "    plt.legend()\n",
    "    plt.show()\n",
    "    plt.close()\n",
    "    \n",
    "# assume 100 percent effiency and convert to photons\n",
    "ind=30 # indice of interest\n",
    "number_of_photons = laser_flux_W / (h*c/(laser_wave*1e-9))  # photons per second\n",
    "print(\"%.4g photons at %d nm\" % (number_of_photons[ind], laser_wave[ind]) )"
   ]
  },
  {
   "cell_type": "markdown",
   "metadata": {},
   "source": [
    "### Load beam transfer bench profile"
   ]
  },
  {
   "cell_type": "markdown",
   "metadata": {},
   "source": [
    "### Bench is Laser -> fiber"
   ]
  },
  {
   "cell_type": "code",
   "execution_count": null,
   "metadata": {},
   "outputs": [],
   "source": [
    "# tunable_ND_filter_min_throughput = 0.96**2\n",
    "laser_flux_incident_on_fiber = laser_flux_W # watts"
   ]
  },
  {
   "cell_type": "code",
   "execution_count": null,
   "metadata": {},
   "outputs": [],
   "source": [
    "fiber_coupling_efficiency = 0.5 # from vendor measurement\n",
    "print(\"Assuming %0.4g loss on fiber illumination\" % fiber_coupling_efficiency )\n",
    "Flux_into_fiber = laser_flux_incident_on_fiber*(1-fiber_coupling_efficiency) # watts\n",
    "print(f'Flux into fiber is {Flux_into_fiber[ind]:0.4f} Watts')"
   ]
  },
  {
   "cell_type": "code",
   "execution_count": null,
   "metadata": {},
   "outputs": [],
   "source": [
    "# Fiber efficiency - assuming 15 meters length\n",
    "# plots are in weird units (dB/km) - want to put that into transmission per meter.\n",
    "# data from http://www.ceramoptec.de/products/fibers/optran-uv-wf.html\n",
    "\n",
    "fiber_distance = 15 # meters\n",
    "fiber_wave= np.array([300,350,400,500,600,700,800,900,950,1000,1100.0,1200.0]) # in nm\n",
    "fiber_att_db_km0 = np.array([140, 70, 35, 15,8.5,  6,  5,  5,6.5, 3.5,   3,2]) # in db/km\n",
    "# interpolate to have the same wavelengths as nt_242\n",
    "fiber_att_db_km = scipy.interpolate.griddata(fiber_wave, fiber_att_db_km0, laser_wave, method='linear')\n",
    "# convert to transmission over the distance\n",
    "fiber_att = (10**(-fiber_att_db_km/1000*fiber_distance/10.0)) # transmission per m\n",
    "fiber_att_80 = (10**(-fiber_att_db_km/1000*80.0/10.0)) # transmission per m\n",
    "#print(laser_wave)\n",
    "#print(fiber_att)\n",
    "if 0 == 1:\n",
    "    plt.plot(laser_wave,fiber_att,'-g')\n",
    "    plt.plot(laser_wave,fiber_att_80,'-r')\n",
    "    #plt.plot(fiber_wave, fiber_att_db_km0,'-b')\n",
    "    plt.title( 'Fiber Transmission over %d meters' % fiber_distance)\n",
    "    plt.ylabel('Fiber Transmission over %d meters' % fiber_distance)\n",
    "    plt.xlabel('wavelength [nm]')\n",
    "    plt.xlim([300,1200])\n",
    "    plt.legend()\n",
    "    plt.ylim([0,1])\n",
    "    plt.show()\n",
    "    plt.close()\n",
    "\n",
    "Flux_out_of_fiber = Flux_into_fiber * fiber_att # watts\n",
    "\n",
    "print(\"fiber attenuation is %0.3f at %d nm\" % (fiber_att[ind],laser_wave[ind]) )"
   ]
  },
  {
   "cell_type": "markdown",
   "metadata": {},
   "source": [
    "### Integration Sphere Efficiency"
   ]
  },
  {
   "cell_type": "code",
   "execution_count": null,
   "metadata": {},
   "outputs": [],
   "source": [
    "# Sphere efficiency - from labsphere theory and app document (found in references folder of this repo)\n",
    "# https://www.labsphere.com/wp-content/uploads/2021/09/GPS.pdf\n",
    "\n",
    "# Assume 4P-GPS-060-SF AS-02266-060 \n",
    "# Spectraflect, 6 inch diameter sphere with two ports, each with a 2.5 entrance/exit pupil\n",
    "sphere_radius = (6.0/2)*0.0254 # in meters\n",
    "input_port_radius = (2.5/2) * 0.0254 # in meters\n",
    "output_port_radius = (2.5/2) * 0.0254 # in meters\n",
    "A_sphere = 4.0 * np.pi * (sphere_radius**2)# area of the sphere\n",
    "A_input = np.pi * (input_port_radius**2)# input port area\n",
    "A_exit = np.pi * (output_port_radius**2)# exit port area\n",
    "f = (A_input + A_exit)/A_sphere # port fraction = 0.087\n",
    "\n",
    "# assume labsphere AS-02284-033 , 3.3 inch diameter sphere with spectralon. 2 output ports - each 1.5 inch diameter\n",
    "rho= 0.985  # spectralon reflectance - actually has a very slight wavelength dependence - will put that in later\n",
    "\n",
    "# sphere_radius = (3.3/2)*0.0254 # in meters\n",
    "# input_port_radius = (1.5/2 ) * 0.0254 # in meters\n",
    "# output_port_radius = (1.5/2 ) * 0.0254 # in meters\n",
    "# A_sphere = 4.0 * np.pi * (sphere_radius**2)# area of the sphere\n",
    "# A_input = np.pi * (input_port_radius**2)# input port area\n",
    "# A_exit = np.pi * (output_port_radius**2)# exit port area\n",
    "# f = (A_input + A_exit)/A_sphere # port fraction = 0.045\n",
    "# # efficiency = 1.33e-5\n",
    "\n",
    "\n",
    "# #assume labsphere AS-02281-010, 1 inch radius sphere with spectralon. 2 output ports - each 1 inch diameter\n",
    "# rho= 0.985  # spectralon reflectance - actually has a very slight wavelength dependence - will put that in later\n",
    "# sphere_radius = (1/2.)*0.0254 # in meters\n",
    "# input_port_radius = (0.25/2 ) * 0.0254 # in meters\n",
    "# output_port_radius = (0.25/2 ) * 0.0254 # in meters\n",
    "# A_sphere = 4.0 * np.pi * (sphere_radius**2)# area of the sphere\n",
    "# A_input = np.pi * (input_port_radius**2)# input port area\n",
    "# A_exit = np.pi * (output_port_radius**2)# exit port area\n",
    "# f = (A_input + A_exit)/A_sphere # port fraction\n",
    "laser_flux_into_int_sphere = Flux_out_of_fiber\n",
    "Ls = ( laser_flux_into_int_sphere / (np.pi * A_sphere) ) * ( rho / (1- rho*(1-f)) ) # eq 12 - Watts/m2\n",
    "print(f'The amount of light exiting the sphere is {Ls[ind]:0.3f} [Watts/m2]')"
   ]
  },
  {
   "cell_type": "code",
   "execution_count": null,
   "metadata": {},
   "outputs": [],
   "source": [
    "# Mask is ~3 inches from the sphere\n",
    "# The amount of light incident on the mask is:\n",
    "d=3*25.4e-3 # [m] distance to mask from exit pupil to focal plane mask (ESTIMATE)\n",
    "theta = np.arctan(output_port_radius/d)\n",
    "incident_flux = Ls * np.pi * np.sin(theta)**2 # Watts/m2  \n",
    "print(f'Incident flux on mask is {incident_flux[ind]:0.3f} [Watts/m2]')"
   ]
  },
  {
   "cell_type": "code",
   "execution_count": null,
   "metadata": {},
   "outputs": [],
   "source": [
    "# calculate how much flux is absorbed by the sphere\n",
    "mask_area = np.pi*(45e-3/2)**2\n",
    "eff_sphere = (incident_flux*mask_area)/Flux_out_of_fiber\n",
    "print(f'efficiency of sphere is {eff_sphere[ind]}')"
   ]
  },
  {
   "cell_type": "markdown",
   "metadata": {},
   "source": [
    "## Declare a mask hole size"
   ]
  },
  {
   "cell_type": "code",
   "execution_count": null,
   "metadata": {},
   "outputs": [],
   "source": [
    "## The magnification factor is the ratio of the focal lengths\n",
    "f_lsst = 10.3  # [m]\n",
    "f_cbp = 0.635 # [m]\n",
    "d_cbp = 24.1e-2 # [m] - so 24.1 cm\n",
    "f_num_cbp = f_cbp/d_cbp\n",
    "\n",
    "mag = f_lsst / f_cbp\n",
    "print(f'Magnification is {f:03f}')\n",
    "# so if we want a top-hat on the detector which X pixels in diameter\n",
    "blob_diam_pix = 50  # diameter of blob on LSST focal plane in pixels\n",
    "pixel_size = 10e-6  # [meters]\n",
    "pinhole_diam =  blob_diam_pix * pixel_size / mag # [m]\n",
    "\n",
    "print(f'A {blob_diam_pix} pixel ({blob_diam_pix*pixel_size*1e6:0.0f} [um]) diameter tophat on the LSST detector requires a {1e6*pinhole_diam:0.1f} [um] diameter hole on the CBP mask')"
   ]
  },
  {
   "cell_type": "markdown",
   "metadata": {},
   "source": [
    "## Amount of Light exiting the CBP and hitting the detector for a perfect optical system"
   ]
  },
  {
   "cell_type": "code",
   "execution_count": null,
   "metadata": {},
   "outputs": [],
   "source": [
    "E_lsst = np.pi * incident_flux * (np.pi*(pinhole_diam/2)**2) / (4*f_num_cbp**2)\n",
    "print(f'Total energy in the tophat for a perfect system is {E_lsst[ind]:0.3e} [Watts]')"
   ]
  },
  {
   "cell_type": "markdown",
   "metadata": {},
   "source": [
    "### CBP transmission is approximately 50% (vendor says 56, but coatings have probably eroded)"
   ]
  },
  {
   "cell_type": "code",
   "execution_count": null,
   "metadata": {},
   "outputs": [],
   "source": [
    "CBP_system_efficiency =  0.56  # Excludes mask\n",
    "LSST_system_efficiency = 0.65 * 0.45 # telescope then camera -- based on LSE-30, but needs better definition\n",
    "flux_hitting_focal_plane = E_lsst * CBP_system_efficiency * LSST_system_efficiency # watts\n",
    "\n",
    "print(f'Total energy in the tophat for a the actual system is {flux_hitting_focal_plane[ind]:0.3e} [Watts]')"
   ]
  },
  {
   "cell_type": "code",
   "execution_count": null,
   "metadata": {},
   "outputs": [],
   "source": []
  },
  {
   "cell_type": "markdown",
   "metadata": {},
   "source": [
    "### Convert from energy to photons - get photons per pixel"
   ]
  },
  {
   "cell_type": "code",
   "execution_count": null,
   "metadata": {},
   "outputs": [],
   "source": [
    "flux_hitting_focal_plane_photons = flux_hitting_focal_plane / (h*c/(laser_wave*1e-9)) # photons per second\n",
    "#want the number of photons per second hitting eachpixel.\n",
    "#Flux_hitting_focal_plane_photons[ind]"
   ]
  },
  {
   "cell_type": "code",
   "execution_count": null,
   "metadata": {},
   "outputs": [],
   "source": [
    "print(f'Flux per top-hat is {flux_hitting_focal_plane_photons[ind]:0.3e} [ph/s]')\n",
    "#print(f'Flux per pixel is {flux_hitting_focal_plane_photons[ind]/:0.3e} [ph/s]')"
   ]
  },
  {
   "cell_type": "code",
   "execution_count": null,
   "metadata": {},
   "outputs": [],
   "source": []
  },
  {
   "cell_type": "markdown",
   "metadata": {},
   "source": [
    "# END OF CBP WORK FOR NOW - 2022-01-12"
   ]
  },
  {
   "cell_type": "code",
   "execution_count": null,
   "metadata": {},
   "outputs": [],
   "source": []
  },
  {
   "cell_type": "code",
   "execution_count": null,
   "metadata": {},
   "outputs": [],
   "source": [
    "total_number_of_pixels = (np.pi*(blob_diam_pix/2)**2)\n",
    "# full_well = 130000 # electrons   - this is actually from DECam but we don't use it here\n",
    "\n",
    "flux_per_pixel_per_second = flux_hitting_focal_plane_photons / total_number_of_pixels\n",
    "print(\"Photons per pixel per second is %d at %d nm\" % (flux_per_pixel_per_second[ind],laser_wave[ind]) )"
   ]
  },
  {
   "cell_type": "code",
   "execution_count": null,
   "metadata": {},
   "outputs": [],
   "source": [
    "if 0 == 1:\n",
    "    plt.plot(laser_wave,filterless_flux_per_pixel_per_second,'-g')\n",
    "    plt.title( 'Filterless Single Laser Incident flux on individual detector pixels',fontsize=20)\n",
    "    plt.ylabel('Filterless Flux [ph/pix/s]',fontsize=20)\n",
    "    plt.xlabel('wavelength [nm]',fontsize=20)\n",
    "    plt.xlim([300,1300])\n",
    "    plt.text(600, 3200, '**Assumes NO FILTER**')\n",
    "    plt.legend()\n",
    "    #plt.ylim([0,1])\n",
    "    plt.show()\n",
    "    plt.close()"
   ]
  },
  {
   "cell_type": "markdown",
   "metadata": {},
   "source": [
    "### Calculate time to complete a monochromatic flat"
   ]
  },
  {
   "cell_type": "code",
   "execution_count": null,
   "metadata": {},
   "outputs": [],
   "source": [
    "# assume a required MEDIAN SNR for a given wavelength\n",
    "med_SNR=100.0\n",
    "\n",
    "# Find the wavelength to start/end a scan\n",
    "\n",
    "# load a filter (but use total transmission since that is what actually\n",
    "# matters and the filters have leaks that confuse the algorithm)\n",
    "filter = 'u'  # ugrizy\n",
    "filename='LSST_response_files/total_'+filter+'.dat'\n",
    "total_trans000 = np.genfromtxt(filename, delimiter=' ',comments='#') # wavelength [nm], Transmission\n",
    "#find nans and remove them\n",
    "good = ~np.isnan(total_trans000[:,1])\n",
    "total_trans0=np.transpose(np.array([total_trans000[good,0], total_trans000[good,1]]))\n"
   ]
  },
  {
   "cell_type": "code",
   "execution_count": null,
   "metadata": {},
   "outputs": [],
   "source": [
    "#define the X% transmission points where we want to start/end the scan\n",
    "min_trans=0.01 # so 1% transmission point\n",
    "\n",
    "# Also find the wavelength of central bandpass transmission\n",
    "# this is roughly the half way point of the filter, defined\n",
    "# by the where the total transmission is greater than a given \n",
    "# percentage \n",
    "\n",
    "cen_ind, = np.where(total_trans0[:,1] > 0.1) # data with >10% throughput\n",
    "central_trans_value=sorted(total_trans0[cen_ind,1])[int(round(cen_ind.size / 2))]\n",
    "central_value_ind,=np.where(total_trans0[:,1] == central_trans_value)\n"
   ]
  },
  {
   "cell_type": "code",
   "execution_count": null,
   "metadata": {},
   "outputs": [],
   "source": [
    "# smooth by a few nm to help find the desired transmission boundary % level\n",
    "# helps ensure no double values occur\n",
    "smoothed_filter_profile = np.convolve(total_trans0[:,1], [0,1,1,1,0], mode='same')\n",
    "\n",
    "if 0==1:\n",
    "    plt.plot(total_trans0[:,0],total_trans0[:,1],'-r')\n",
    "    plt.show()\n",
    "    plt.close()\n",
    "    \n",
    "#separate into red and blue sides of the filter for ease of code comprehension\n",
    "blue_half_of_filter = smoothed_filter_profile[0:central_value_ind[0]]\n",
    "red_half_of_filter = smoothed_filter_profile[central_value_ind[0]::]\n",
    "#find closest value to min_trans on blue and red edge\n",
    "blue_side_edge_wave_ind = (np.abs(blue_half_of_filter-min_trans)).argmin()\n",
    "red_side_edge_wave_ind = (np.abs(red_half_of_filter-min_trans)).argmin()\n",
    "\n",
    "print('minimum scan wavelength is is %d nm, based on minimum total transmission point of %0.2f%%' \n",
    "      % (total_trans0[blue_side_edge_wave_ind,0],min_trans) )\n",
    "print('maximum scan wavelength is is %d nm, based on minimum total transmission point of %0.2f%%' \n",
    "      % (total_trans0[central_value_ind+red_side_edge_wave_ind,0],min_trans) )"
   ]
  },
  {
   "cell_type": "code",
   "execution_count": null,
   "metadata": {},
   "outputs": [],
   "source": [
    "# define filter bandpass range to compute flat based on value of min_trans\n",
    "filter_bandpass = np.arange(total_trans0[blue_side_edge_wave_ind,0],\n",
    "                            total_trans0[central_value_ind[0]+red_side_edge_wave_ind,0])\n",
    "\n",
    "# load detector efficiency\n",
    "det_filename='LSST_response_files/detector_120227.dat'\n",
    "detector0 = np.genfromtxt(det_filename, delimiter='',comments='#') # wavelength [nm], Transmission\n",
    "#interpolate to filter_bandpass\n",
    "detector_efficiency = scipy.interpolate.griddata(detector0[:,0],detector0[:,1], filter_bandpass, method='linear')\n",
    "\n",
    "# load the filter curve\n",
    "filename='LSST_response_files/filter_'+filter+'.dat'\n",
    "filter_trans0 = np.genfromtxt(filename, delimiter=' ',comments='#') # wavelengt\n",
    "#get filter transmission for this bandpass\n",
    "filter_transmission = scipy.interpolate.griddata(filter_trans0[:,0],\n",
    "                                                 filter_trans0[:,1], filter_bandpass, method='linear')\n",
    "\n",
    "# determine filterless and detectorless count rate average\n",
    "filterless_count_rate = scipy.interpolate.griddata(laser_wave,filterless_flux_per_pixel_per_second,\n",
    "                                                   filter_bandpass, method='linear') \n",
    "count_rate = filterless_count_rate * filter_transmission * detector_efficiency\n",
    "    \n",
    "median_count_rate = np.median(count_rate)\n",
    "print('median count rate for %s-band is %d photons/sec with the %s laser' % (filter ,median_count_rate,laser) )\n",
    "\n",
    "# determine how long it will take to collect med_SNR^2 of photons\n",
    "time = (med_SNR**2) / median_count_rate * filter_bandpass.size / 3600  # in hours\n",
    "print('%s-band will take %0.2f hours for an median SNR of %d' % (filter,time,med_SNR) )\n",
    "\n",
    "snr_per_wave=np.sqrt(count_rate* ((med_SNR**2) / median_count_rate))\n",
    "integrated_snr= np.sqrt(sum(count_rate* ((med_SNR**2) / median_count_rate)))\n",
    "\n",
    "print('%s-band will have an integrated SNR of %d ' % (filter, integrated_snr) )\n",
    "\n",
    "# create SNR plot\n",
    "if 1 == 1:\n",
    "    plt.plot(filter_bandpass,snr_per_wave,'-g')\n",
    "    plt.title( 'SNR of %s-band monochromatic flat' % (filter),fontsize=20)\n",
    "    plt.ylabel('SNR',fontsize=20)\n",
    "    plt.xlabel('wavelength [nm]',fontsize=20)\n",
    "    #plt.legend()\n",
    "    plt.show()\n",
    "    plt.close()"
   ]
  },
  {
   "cell_type": "code",
   "execution_count": null,
   "metadata": {},
   "outputs": [],
   "source": []
  },
  {
   "cell_type": "markdown",
   "metadata": {},
   "source": [
    "# END HERE"
   ]
  },
  {
   "cell_type": "code",
   "execution_count": null,
   "metadata": {},
   "outputs": [],
   "source": []
  }
 ],
 "metadata": {
  "anaconda-cloud": {},
  "kernelspec": {
   "display_name": "Python 3",
   "language": "python",
   "name": "python3"
  },
  "language_info": {
   "codemirror_mode": {
    "name": "ipython",
    "version": 3
   },
   "file_extension": ".py",
   "mimetype": "text/x-python",
   "name": "python",
   "nbconvert_exporter": "python",
   "pygments_lexer": "ipython3",
   "version": "3.8.8"
  }
 },
 "nbformat": 4,
 "nbformat_minor": 4
}
