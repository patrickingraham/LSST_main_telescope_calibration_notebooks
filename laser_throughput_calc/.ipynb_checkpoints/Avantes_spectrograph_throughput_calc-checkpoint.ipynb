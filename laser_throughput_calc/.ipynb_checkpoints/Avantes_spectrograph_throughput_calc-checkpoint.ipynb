{
 "cells": [
  {
   "cell_type": "markdown",
   "metadata": {},
   "source": [
    "This notebook is to determine the required laser power to illuminate the flat field screen"
   ]
  },
  {
   "cell_type": "code",
   "execution_count": 1,
   "metadata": {
    "collapsed": true
   },
   "outputs": [],
   "source": [
    "import numpy as np\n",
    "import math\n",
    "\n",
    "import matplotlib.pyplot as plt\n",
    "import scipy.interpolate\n",
    "from scipy.integrate import simps"
   ]
  },
  {
   "cell_type": "code",
   "execution_count": 2,
   "metadata": {
    "collapsed": true
   },
   "outputs": [],
   "source": [
    "# declare constants\n",
    "h = 6.626e-34 # m2 kg / s\n",
    "c = 3e8 # m/s"
   ]
  },
  {
   "cell_type": "code",
   "execution_count": 3,
   "metadata": {
    "collapsed": true
   },
   "outputs": [],
   "source": [
    "# Load Energetiq-99X profile output profile (no fiber)\n",
    "# no actual profile, just guessing from the curve in the PDF file \n",
    "filename='/Users/patrickingraham/LSST/laser_throughput_calc/Laser_power_data/Energetiq-99XFC.csv'\n",
    "energetiq_99xfg_data = np.genfromtxt(filename,\n",
    "                          delimiter=',',comments='#') # wavelength [nm], Transmission\n",
    "#curve assumes a 230um diameter fiber, 1m in length\n",
    "# can use a 600µm fibre which then increases flux by a factor of ~2.25.\n",
    "fiber_diameter_multiplier = 2.25\n",
    "\n",
    "energetiq_99xfg_wave =      np.concatenate((energetiq_99xfg_data[:,0],np.array([1200]))) # nm\n",
    "energetiq_99xfg_flux_W_nm =  np.concatenate((energetiq_99xfg_data[:,1],\n",
    "                                             np.array([25])))*1e-6*fiber_diameter_multiplier # in watts/nm\n",
    "energetiq_99xfg_flux_W_nm[:] = 0.3/1000 # in watts/nm"
   ]
  },
  {
   "cell_type": "code",
   "execution_count": 4,
   "metadata": {
    "collapsed": false
   },
   "outputs": [
    {
     "name": "stdout",
     "output_type": "stream",
     "text": [
      "28.0342965349\n",
      "33.3910826745\n",
      "[  8.38057685e-05   9.55509811e-05   6.11898467e-05   4.29755351e-05\n",
      "   3.98330658e-05   4.58091699e-05   5.08945537e-05   5.30467852e-05\n",
      "   5.08067974e-05   5.03702806e-05   5.25910231e-05   5.53855304e-05\n",
      "   5.92415521e-05   6.33660356e-05   6.83650437e-05   7.55621861e-05\n",
      "   8.43862859e-05   9.57160220e-05   1.06709358e-04   1.18350993e-04\n",
      "   1.29462916e-04   1.38955095e-04   1.45834472e-04   1.45834472e-04\n",
      "   1.46591458e-04   1.55182175e-04   1.53054433e-04   1.34472713e-04\n",
      "   1.23996132e-04   1.16929873e-04   1.16125479e-04   1.18760191e-04\n",
      "   1.25070702e-04   1.25286731e-04   1.22930794e-04   1.16728254e-04\n",
      "   1.14138620e-04   1.09318929e-04   1.07263257e-04   1.02733889e-04\n",
      "   9.97636661e-05   9.97636661e-05   9.92484951e-05   9.73821908e-05\n",
      "   9.60469594e-05   9.35925480e-05   9.24687190e-05   9.24687190e-05\n",
      "   9.24687190e-05   8.97952805e-05   8.64499472e-05   8.57071951e-05\n",
      "   8.48243114e-05   8.22298547e-05   8.02669320e-05   7.94400893e-05\n",
      "   7.94400893e-05   7.94400893e-05   7.94400893e-05   7.93031126e-05\n",
      "   7.79462693e-05   7.66126411e-05   7.64805397e-05   7.58234418e-05\n",
      "   7.36312485e-05   7.36312485e-05   7.83508665e-05   7.83508665e-05\n",
      "   6.97955888e-05   7.01578781e-05   7.51719895e-05   0.00000000e+00]\n"
     ]
    }
   ],
   "source": [
    "# Load Energetiq-99XFC profile output profile\n",
    "# profile esimated from the curve in the PDF file \n",
    "filename='/Users/patrickingraham/LSST/laser_throughput_calc/Laser_power_data/Energetiq-99X.csv'\n",
    "energetiq_99x_data = np.genfromtxt(filename,\n",
    "                          delimiter=',',comments='#') # wavelength [nm], Transmission\n",
    "\n",
    "energetiq_99x_wave =      np.concatenate((energetiq_99x_data[:,0],np.array([1000.0]))) # nm\n",
    "energetiq_99x_flux_mW_nm_mm_sr =  np.concatenate((energetiq_99x_data[:,1],\n",
    "                                             np.array([0.0]))) # in mW/nm/sr/mm^2\n",
    "\n",
    "# want watts/nm\n",
    "NA=0.48\n",
    "angle_deg=np.arcsin(0.47)*180/np.pi\n",
    "print angle_deg\n",
    "beam_diam_mm=1.4*25.4 # assume optic is 1.4 inch beam diameter and convert to mm - optic is 1.5' true diam\n",
    "\n",
    "distance = (beam_diam_mm/2) / np.tan(angle_deg*np.pi/180) # mm\n",
    "print distance\n",
    "source_area=np.pi* (60e-3)/2 * (140e-3)/2  # mm^2 using 60 μm x 140 μm FWHM plasma\n",
    "solid_angle= source_area / distance**2\n",
    "collecting_area=np.pi * (beam_diam_mm/2)**2 # in mm^2\n",
    "\n",
    "energetiq_99x_flux_W_nm = energetiq_99x_flux_mW_nm_mm_sr * collecting_area * solid_angle / 1000 # W/nm\n",
    "print energetiq_99x_flux_W_nm"
   ]
  },
  {
   "cell_type": "markdown",
   "metadata": {},
   "source": [
    "### Load laser output profile"
   ]
  },
  {
   "cell_type": "code",
   "execution_count": 5,
   "metadata": {
    "collapsed": false
   },
   "outputs": [
    {
     "name": "stdout",
     "output_type": "stream",
     "text": [
      "9.069e+14 photons at 600 nm\n"
     ]
    }
   ],
   "source": [
    "laser = 'energetiq_99xfg'\n",
    "\n",
    "if laser == 'energetiq_99xfg':\n",
    "    laser_flux_W_nm = energetiq_99xfg_flux_W_nm\n",
    "    laser_wave = energetiq_99xfg_wave\n",
    "\n",
    "if laser == 'energetiq_99x':\n",
    "    laser_flux_W_nm = energetiq_99x_flux_W_nm\n",
    "    laser_wave = energetiq_99x_wave\n",
    "\n",
    "if 1 == 1:\n",
    "    if laser == 'energetiq_99xfg':\n",
    "        conv_fact=1e6\n",
    "        plt.ylim([1,1000])\n",
    "        plt.xlim([180,1210])\n",
    "        plt.ylabel('Spectral Power [uW/nm]')\n",
    "        plt.title(laser+' typical performance for 230um fiber')\n",
    "    if laser == 'energetiq_99x':\n",
    "        conv_fact=1.0/(collecting_area * solid_angle / 1000)\n",
    "        fiber_diameter_multiplier=1.0\n",
    "        plt.ylim([0.001,100])\n",
    "        plt.xlim([170,800])\n",
    "        plt.ylabel('Spectral Radiance [mW/nm/sr/mm^2]')\n",
    "        plt.title(laser)\n",
    "    \n",
    "    plt.semilogy(laser_wave,laser_flux_W_nm*conv_fact/fiber_diameter_multiplier,'-g',label=\"Power vs wavelengh\")\n",
    "    \n",
    "    plt.xlabel('wavelength [nm]')\n",
    "    plt.legend()\n",
    "    plt.show()\n",
    "    plt.close()\n",
    "    \n",
    "# assume 100 percent effiency and convert to photons\n",
    "ind=50 # indice of interest\n",
    "number_of_photons = laser_flux_W_nm / (h*c/(laser_wave*1e-9))  # photons per second per nm\n",
    "print \"%.4g photons at %d nm\" % (number_of_photons[ind], laser_wave[ind])"
   ]
  },
  {
   "cell_type": "markdown",
   "metadata": {},
   "source": [
    "### Load beam transfer bench profile"
   ]
  },
  {
   "cell_type": "code",
   "execution_count": 6,
   "metadata": {
    "collapsed": false
   },
   "outputs": [],
   "source": [
    "# Assume only 2 lenses each with 4% loss\n",
    "laser_flux_into_int_sphere = laser_flux_W_nm * (0.96)**2 # watts/nm\n",
    "# assume 4% loss at lenses and "
   ]
  },
  {
   "cell_type": "code",
   "execution_count": 7,
   "metadata": {
    "collapsed": false
   },
   "outputs": [
    {
     "name": "stdout",
     "output_type": "stream",
     "text": [
      "sphere to fiber efficiency 0.000191\n",
      "Bypassing Integration sphere\n",
      "Assuming 0.75 loss on fiber illumination\n"
     ]
    }
   ],
   "source": [
    "# Sphere efficiency - from labsphere theory and app document\n",
    "\n",
    "\n",
    "# assume labsphere AS-02284-033 , 3.3 inch diameter sphere with spectralon. 2 output ports - each 1.5 inch diameter\n",
    "rho= 0.985  # spectralon reflectance - actually has a very slight wavelength dependence - will put that in later\n",
    "\n",
    "sphere_radius = (3.3/2)*0.0254 # in meters\n",
    "input_port_radius = (1.5/2 ) * 0.0254 # in meters\n",
    "output_port_radius = (1.5/2 ) * 0.0254 # in meters\n",
    "A_sphere = 4.0 * np.pi * (sphere_radius**2)# area of the sphere\n",
    "A_input = np.pi * (input_port_radius**2)# input port area\n",
    "A_exit = np.pi * (output_port_radius**2)# exit port area\n",
    "f = (A_input + A_exit)/A_sphere # port fraction = 0.045\n",
    "# efficiency = 1.33e-5\n",
    "\n",
    "\n",
    "#assume labsphere AS-02281-010, 1 inch radius sphere with spectralon. 2 output ports - each 1 inch diameter\n",
    "rho= 0.985  # spectralon reflectance - actually has a very slight wavelength dependence - will put that in later\n",
    "sphere_radius = (1/2.)*0.0254 # in meters\n",
    "input_port_radius = (0.25/2 ) * 0.0254 # in meters\n",
    "output_port_radius = (0.25/2 ) * 0.0254 # in meters\n",
    "A_sphere = 4.0 * np.pi * (sphere_radius**2)# area of the sphere\n",
    "A_input = np.pi * (input_port_radius**2)# input port area\n",
    "A_exit = np.pi * (output_port_radius**2)# exit port area\n",
    "f = (A_input + A_exit)/A_sphere # port fraction\n",
    "\n",
    "\n",
    "Ls = ( laser_flux_into_int_sphere / (np.pi * A_sphere) ) * ( rho / (1- rho*(1-f)) ) # eq 12 - Watts/m2\n",
    "\n",
    "# Fiber bundle coupling efficiency - assuming Optran WF fiber\n",
    "NA=0.22\n",
    "fiber_reflectivity = 0.5 # small wavelength dependence ( assumes silica fiber, n=3.5, angle of in = 12 deg (atan(NA))\n",
    "core_radius = 75e-6 # assuming 75um radius\n",
    "core_area = np.pi*(core_radius**2) # [m2]\n",
    "N_fibers = 42.0 #nominally 28, assume 50% spares\n",
    "Af = core_area*N_fibers\n",
    "\n",
    "Flux_into_fiber = Ls * Af * np.pi * (NA**2)*(1-fiber_reflectivity)  # [watts]\n",
    "\n",
    "# plot sphere efficiency\n",
    "if 1 == 1:\n",
    "    print \"sphere to fiber efficiency %f\" % (Flux_into_fiber[5]/laser_flux_into_int_sphere[5])\n",
    "    #print laser_wave[5]\n",
    "    #plt.plot(laser_wave,Flux_into_fiber/laser_flux_into_int_sphere,'-g')\n",
    "    #plt.title( 'Sphere efficiency')\n",
    "    #plt.ylabel('Sphere to Fiber Transmission')\n",
    "    #plt.xlabel('wavelength [nm]')\n",
    "    #plt.legend()\n",
    "    ##plt.ylim([0,1])\n",
    "    #plt.show()\n",
    "    #plt.close()\n",
    "\n",
    "    # bypass sphere\n",
    "    ignore_sphere = 1\n",
    "    if ignore_sphere == 1:\n",
    "        print \"Bypassing Integration sphere\"\n",
    "        fiber_splitting_loss = 0.75 \n",
    "        print \"Assuming %0.4g loss on fiber illumination\" % fiber_splitting_loss\n",
    "        Flux_into_fiber = laser_flux_into_int_sphere*(1-fiber_splitting_loss)  # watts/nm\n",
    "        \n"
   ]
  },
  {
   "cell_type": "code",
   "execution_count": 8,
   "metadata": {
    "collapsed": false
   },
   "outputs": [
    {
     "name": "stdout",
     "output_type": "stream",
     "text": [
      "fiber attenuation is 0.855 at 600 nm\n"
     ]
    }
   ],
   "source": [
    "\n",
    "# Fiber efficiency\n",
    "# plots are in weird units (dB/km) - want to put that into transmission per meter.\n",
    "# data from http://www.ceramoptec.de/products/fibers/optran-uv-wf.html\n",
    "\n",
    "fiber_distance = 80.0 # meters\n",
    "fiber_wave= np.array([300,350,400,500,600,700,800,900,950,1000,1100.0,1200.0]) # in nm\n",
    "fiber_att_db_km0 = np.array([140, 70, 35, 15,8.5,  6,  5,  5,6.5, 3.5,   3,2]) # in db/km\n",
    "# interpolate to have the same wavelengths as nt_242\n",
    "fiber_att_db_km = scipy.interpolate.griddata(fiber_wave, fiber_att_db_km0, laser_wave, method='linear')\n",
    "# convert to transmission over the distance\n",
    "fiber_att = (10**(-fiber_att_db_km/1000*fiber_distance/10.0)) # transmission per m\n",
    "\n",
    "if 0 == 1:\n",
    "    plt.plot(laser_wave,fiber_att,'-g')\n",
    "    #plt.plot(fiber_wave, fiber_att_db_km0,'-b')\n",
    "    plt.title( 'Fiber Transmission over %d meters' % fiber_distance)\n",
    "    plt.ylabel('Fiber Transmission over %d meters' % fiber_distance)\n",
    "    plt.xlabel('wavelength [nm]')\n",
    "    plt.xlim([300,1300])\n",
    "    plt.legend()\n",
    "    #plt.ylim([0,1])\n",
    "    plt.show()\n",
    "    plt.close()\n",
    "\n",
    "Flux_out_of_fiber = Flux_into_fiber * fiber_att # watts/nm\n",
    "\n",
    "print \"fiber attenuation is %0.3f at %d nm\" % (fiber_att[ind],laser_wave[ind])"
   ]
  },
  {
   "cell_type": "markdown",
   "metadata": {},
   "source": [
    "### Multiply by end throughput calculation from Ming/Zemax/FRED (660nm)"
   ]
  },
  {
   "cell_type": "code",
   "execution_count": 9,
   "metadata": {
    "collapsed": false
   },
   "outputs": [],
   "source": [
    "#masks are not included in Ming's estimate - guessing a mask throughput for the moment\n",
    "mask_throughput=0.25 # measured from Zemax\n",
    "\n",
    "FF_system_efficiency = mask_throughput* 0.005/100.  # screen photons to detector - 3 Al mirrors - no silver\n",
    "flux_hitting_focal_plane = Flux_out_of_fiber * FF_system_efficiency # watts/nm"
   ]
  },
  {
   "cell_type": "markdown",
   "metadata": {},
   "source": [
    "###Remove filter dependence"
   ]
  },
  {
   "cell_type": "code",
   "execution_count": 10,
   "metadata": {
    "collapsed": false
   },
   "outputs": [],
   "source": [
    "# must divide by filter response at 660nm first - then multiply by the desired filters\n",
    "r_filter_trans0 = np.genfromtxt('/Users/patrickingraham/LSST/laser_throughput_calc/throughputs/baseline/filter_r.dat',\n",
    "                          delimiter=' ',comments='#') # wavelength [nm], Transmission\n",
    "r_filter_trans_660nm = scipy.interpolate.griddata(r_filter_trans0[:,0],r_filter_trans0[:,1], 660, method='linear')\n",
    "\n",
    "filterless_flux_hitting_focal_plane = flux_hitting_focal_plane / r_filter_trans_660nm # watts/nm\n"
   ]
  },
  {
   "cell_type": "markdown",
   "metadata": {},
   "source": [
    "###Convert from energy to photons - get photons per pixel"
   ]
  },
  {
   "cell_type": "code",
   "execution_count": 11,
   "metadata": {
    "collapsed": false
   },
   "outputs": [],
   "source": [
    "filterless_flux_hitting_focal_plane_photons = filterless_flux_hitting_focal_plane / (h*c/(laser_wave*1e-9)) # photons per second per nm\n",
    "#want the number of photons per second hitting eachpixel.\n",
    "#Flux_hitting_focal_plane_photons[ind]"
   ]
  },
  {
   "cell_type": "code",
   "execution_count": 12,
   "metadata": {
    "collapsed": false
   },
   "outputs": [
    {
     "name": "stdout",
     "output_type": "stream",
     "text": [
      "Filterless photons per pixel per second 0 at 600 nm\n"
     ]
    }
   ],
   "source": [
    "total_number_of_pixels = 3.2e9 # 3.2 gigapixels\n",
    "full_well = 130000 # electrons   - this is actually from DECam..\n",
    "\n",
    "filterless_flux_per_pixel_per_second_per_nm = filterless_flux_hitting_focal_plane_photons / total_number_of_pixels \n",
    "print \"Filterless photons per pixel per second %d at %d nm\" % (filterless_flux_per_pixel_per_second_per_nm[ind],laser_wave[ind])"
   ]
  },
  {
   "cell_type": "code",
   "execution_count": 13,
   "metadata": {
    "collapsed": false
   },
   "outputs": [
    {
     "name": "stderr",
     "output_type": "stream",
     "text": [
      "/Users/patrickingraham/anaconda/lib/python2.7/site-packages/matplotlib/axes/_axes.py:475: UserWarning: No labelled objects found. Use label='...' kwarg on individual plots.\n",
      "  warnings.warn(\"No labelled objects found. \"\n"
     ]
    }
   ],
   "source": [
    "if 1 == 1:\n",
    "    plt.plot(laser_wave,filterless_flux_per_pixel_per_second_per_nm,'-g')\n",
    "    plt.title( 'Filterless Incident flux on individual detector pixels',fontsize=20)\n",
    "    plt.ylabel('Filterless Flux [ph/pix/s/nm]',fontsize=20)\n",
    "    plt.xlabel('wavelength [nm]',fontsize=20)\n",
    "    plt.xlim([320,1125])\n",
    "    plt.text(500, 0.3, '**Assumes NO FILTER**')\n",
    "    if ignore_sphere == 1:\n",
    "        plt.text(600, 3000, '**Assuming NO integration sphere**')\n",
    "    plt.legend()\n",
    "    #plt.ylim([0,1])\n",
    "    plt.show()\n",
    "    plt.close()"
   ]
  },
  {
   "cell_type": "markdown",
   "metadata": {
    "collapsed": true
   },
   "source": [
    "### Calculate time to complete a broadband flat"
   ]
  },
  {
   "cell_type": "code",
   "execution_count": 14,
   "metadata": {
    "collapsed": false
   },
   "outputs": [],
   "source": [
    "# assume a required MEDIAN SNR for a given wavelength\n",
    "med_SNR=1000.0\n",
    "\n",
    "# load a filter (use total transmission since that is what actually\n",
    "# matters and the filters have leaks that confuse the algorithm)\n",
    "filter = 'u'  # ugrizy\n",
    "filename='/Users/patrickingraham/LSST/laser_throughput_calc/throughputs/baseline/total_'+filter+'.dat'\n",
    "total_trans000 = np.genfromtxt(filename, delimiter=' ',comments='#') # wavelength [nm], Transmission\n",
    "#find nans and remove them\n",
    "good = ~np.isnan(total_trans000[:,1])\n",
    "total_trans0=np.transpose(np.array([total_trans000[good,0], total_trans000[good,1]]))\n"
   ]
  },
  {
   "cell_type": "code",
   "execution_count": 15,
   "metadata": {
    "collapsed": false
   },
   "outputs": [
    {
     "name": "stdout",
     "output_type": "stream",
     "text": [
      "blue side minimum total transmission (0.01) wavelength is 315 nm\n",
      "red side minimum total transmission (0.01) wavelength is 414 nm\n"
     ]
    }
   ],
   "source": [
    "\n",
    "#print filter_trans0[0:100,:]\n",
    "#find the X% transmission line \n",
    "min_trans=0.01\n",
    "# first find the wavelength of median bandpass transmission\n",
    "#cen_ind, = np.where(total_trans0[:,1] == (np.median(total_trans0[:,1] > 0.5)))\n",
    "cen_ind, = np.where(total_trans0[:,1] > 0.3)\n",
    "median_trans_value=sorted(total_trans0[cen_ind,1])[cen_ind.size / 2]\n",
    "#print median_trans_value\n",
    "median_value_ind,=np.where(total_trans0[:,1] == median_trans_value)\n",
    "#print median_value_ind\n",
    "#print total_trans0[median_value_ind,0]\n",
    "\n",
    "# smooth by a few nm to help find the desired transmission boundary % level\n",
    "tmp= np.convolve(total_trans0[:,1], [0,1,1,1,0], mode='same')\n",
    "\n",
    "if 0==1:\n",
    "    plt.plot(total_trans0[:,0],total_trans0[:,1],'-r')\n",
    "    plt.show()\n",
    "    plt.close()\n",
    "    \n",
    "blue_side_trans_ind2,=np.where( (abs(tmp[0:median_value_ind]-min_trans)) == \n",
    "                               (np.nanmin(abs(tmp[0:median_value_ind]-min_trans))) )\n",
    "red_side_trans_ind2,=np.where( (abs(tmp[median_value_ind::]-min_trans)) == \n",
    "                              (np.nanmin(abs(tmp[median_value_ind::]-min_trans))) )\n",
    "\n",
    "print 'blue side minimum total transmission (%0.2f) wavelength is %d nm' % (min_trans,total_trans0[blue_side_trans_ind2,0])\n",
    "print 'red side minimum total transmission (%0.2f) wavelength is %d nm' % (min_trans,total_trans0[median_value_ind+red_side_trans_ind2,0])\n"
   ]
  },
  {
   "cell_type": "code",
   "execution_count": 16,
   "metadata": {
    "collapsed": false
   },
   "outputs": [
    {
     "name": "stdout",
     "output_type": "stream",
     "text": [
      "count rate for u-band is 6 photons/sec\n"
     ]
    }
   ],
   "source": [
    "\n",
    "# define filter bandpass range\n",
    "filter_bandpass = np.arange(total_trans0[blue_side_trans_ind2,0],\n",
    "                            total_trans0[median_value_ind+red_side_trans_ind2,0])\n",
    "\n",
    "# load detector efficiency\n",
    "det_filename='/Users/patrickingraham/LSST/laser_throughput_calc/throughputs/baseline/detector_120227.dat'\n",
    "detector0 = np.genfromtxt(det_filename, delimiter='',comments='#') # wavelength [nm], Transmission\n",
    "#interpolate to filter_bandpass\n",
    "detector_efficiency = scipy.interpolate.griddata(detector0[:,0],detector0[:,1], filter_bandpass, method='linear')\n",
    "\n",
    "# load the filter curve\n",
    "filename='/Users/patrickingraham/LSST/laser_throughput_calc/throughputs/baseline/filter_'+filter+'.dat'\n",
    "filter_trans0 = np.genfromtxt(filename, delimiter=' ',comments='#') # wavelengt\n",
    "#get filter transmission for this bandpass\n",
    "filter_transmission = scipy.interpolate.griddata(filter_trans0[:,0],\n",
    "                                                 filter_trans0[:,1], filter_bandpass, method='linear')\n",
    "\n",
    "# determine filterless and detectorless count rate average\n",
    "filterless_count_rate = scipy.interpolate.griddata(laser_wave,filterless_flux_per_pixel_per_second_per_nm,\n",
    "                                                   filter_bandpass, method='linear') # ph/pix/s/nm\n",
    "count_rate = filterless_count_rate * filter_transmission * detector_efficiency # ph/pix/s/nm\n",
    "\n",
    "\n",
    "integrated_count_rate = simps(count_rate, filter_bandpass)\n",
    "print 'count rate for %s-band is %d photons/sec' % (filter ,integrated_count_rate)\n",
    "\n",
    "# plot measured flux\n",
    "if 1 == 1:\n",
    "    plt.plot(filter_bandpass,count_rate,'-g')\n",
    "    plt.title( 'Incident Flux SED of broadband flat',fontsize=20)\n",
    "    plt.ylabel('count rate [ph/pix/s/nm]',fontsize=20)\n",
    "    plt.xlabel('wavelength [nm]',fontsize=20)\n",
    "    #if ignore_sphere == 1:\n",
    "    #    plt.text(600, 3000, '**Assuming NO integration sphere**')\n",
    "    plt.legend()\n",
    "    #plt.ylim([0,1])\n",
    "    plt.show()\n",
    "    plt.close()"
   ]
  },
  {
   "cell_type": "code",
   "execution_count": 17,
   "metadata": {
    "collapsed": false
   },
   "outputs": [
    {
     "name": "stdout",
     "output_type": "stream",
     "text": [
      "u-band will take 41.3 hours for an median SNR of 1000\n"
     ]
    }
   ],
   "source": [
    "\n",
    "# determine how long it will take to collect med_SNR^2 of photons\n",
    "time = (med_SNR**2) / integrated_count_rate / 3600  # in hours\n",
    "print '%s-band will take %0.1f hours for an median SNR of %d' % (filter,time,med_SNR)\n",
    "\n"
   ]
  },
  {
   "cell_type": "code",
   "execution_count": null,
   "metadata": {
    "collapsed": true
   },
   "outputs": [],
   "source": []
  },
  {
   "cell_type": "code",
   "execution_count": null,
   "metadata": {
    "collapsed": true
   },
   "outputs": [],
   "source": []
  },
  {
   "cell_type": "code",
   "execution_count": null,
   "metadata": {
    "collapsed": true
   },
   "outputs": [],
   "source": []
  }
 ],
 "metadata": {
  "kernelspec": {
   "display_name": "Python 2",
   "language": "python",
   "name": "python2"
  },
  "language_info": {
   "codemirror_mode": {
    "name": "ipython",
    "version": 2
   },
   "file_extension": ".py",
   "mimetype": "text/x-python",
   "name": "python",
   "nbconvert_exporter": "python",
   "pygments_lexer": "ipython2",
   "version": "2.7.10"
  }
 },
 "nbformat": 4,
 "nbformat_minor": 0
}
