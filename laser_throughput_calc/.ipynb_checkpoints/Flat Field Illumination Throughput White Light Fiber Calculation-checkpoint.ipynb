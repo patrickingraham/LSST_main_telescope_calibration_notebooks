{
 "cells": [
  {
   "cell_type": "markdown",
   "metadata": {},
   "source": [
    "This notebook is to determine the required laser power to illuminate the flat field screen"
   ]
  },
  {
   "cell_type": "code",
   "execution_count": 1,
   "metadata": {
    "collapsed": true
   },
   "outputs": [],
   "source": [
    "import numpy as np\n",
    "import math\n",
    "\n",
    "import matplotlib.pyplot as plt\n",
    "import scipy.interpolate"
   ]
  },
  {
   "cell_type": "code",
   "execution_count": 2,
   "metadata": {
    "collapsed": true
   },
   "outputs": [],
   "source": [
    "# declare constants\n",
    "h = 6.626e-34 # m2 kg / s\n",
    "c = 3e8 # m/s"
   ]
  },
  {
   "cell_type": "code",
   "execution_count": 3,
   "metadata": {
    "collapsed": false
   },
   "outputs": [],
   "source": [
    "# Load EKSPLA NT 242-SHG laser output profile\n",
    "# no actual profile, just guessing from the curve in the PDF file \n",
    "nt242_wave =      np.array([300,320,350,399,400,420,480,500,540,610,700,800,950,1000,1200,1300.0]) # nm\n",
    "nt242_energy_J =  np.array([ 20, 45, 30, 10, 45,470,460,460,300,180, 60,130,155, 160, 150,140])*1e-6 # in joules\n",
    "    \n",
    "nt242_pulse_rate_Hz = 1000.0 # 1000 pulses per second\n",
    "\n",
    "nt242_flux_W = nt242_energy_J * nt242_pulse_rate_Hz # watts"
   ]
  },
  {
   "cell_type": "code",
   "execution_count": 31,
   "metadata": {
    "collapsed": false
   },
   "outputs": [],
   "source": [
    "# Load EKSPLA NT 230-SHG laser output profile\n",
    "# no actual profile, just guessing from the curve in the PDF file \n",
    "nt230_sfg_data = np.genfromtxt('/Users/patrickingraham/LSST/laser_throughput_calc/Laser_power_data/nt230_sfg.csv',\n",
    "                          delimiter=',',comments='#') # wavelength [nm], Transmission\n",
    "nt230_signal_data = np.genfromtxt('/Users/patrickingraham/LSST/laser_throughput_calc/Laser_power_data/nt230_signal.csv',\n",
    "                          delimiter=',',comments='#') # wavelength [nm], Transmission\n",
    "nt230_idler_data = np.genfromtxt('/Users/patrickingraham/LSST/laser_throughput_calc/Laser_power_data/nt230_idler.csv',\n",
    "                          delimiter=',',comments='#') # wavelength [nm], Transmission\n",
    "\n",
    "nt230_wave =      np.concatenate((nt230_sfg_data[:,0],nt230_signal_data[:,0],nt230_idler_data[:,0])) # nm\n",
    "nt230_energy_J =  np.concatenate((nt230_sfg_data[:,1],nt230_signal_data[:,1],nt230_idler_data[:,1]))*1e-3 # in joules\n",
    "    \n",
    "nt230_pulse_rate_Hz = 100.0 # 1000 pulses per second\n",
    "\n",
    "nt230_flux_W = nt230_energy_J * nt230_pulse_rate_Hz # watts"
   ]
  },
  {
   "cell_type": "markdown",
   "metadata": {},
   "source": [
    "### Load laser output profile"
   ]
  },
  {
   "cell_type": "code",
   "execution_count": 34,
   "metadata": {
    "collapsed": false
   },
   "outputs": [
    {
     "name": "stdout",
     "output_type": "stream",
     "text": [
      "[  287.95180723   292.77108434   298.79518072   309.63855422   321.68674699\n",
      "   332.53012048   344.57831325   355.42168675   366.26506024   379.51807229\n",
      "   387.95180723   396.38554217   404.81927711   404.81927711   409.63855422\n",
      "   414.45783133   421.68674699   430.12048193   439.75903614   446.98795181\n",
      "   460.24096386   471.08433735   485.54216867   497.59036145   506.02409639\n",
      "   518.07228916   524.09638554   532.53012048   539.75903614   548.19277108\n",
      "   553.01204819   563.85542169   584.3373494    591.56626506   598.79518072\n",
      "   606.02409639   619.27710843   624.09638554   633.73493976   644.57831325\n",
      "   655.42168675   679.51807229   693.97590361   701.20481928   707.22891566\n",
      "   709.63855422   712.66621894   759.57018133   809.48287441   870.51712559\n",
      "   961.53122901  1042.87441236  1104.12357287  1164.88918737  1276.74949631\n",
      "  1378.50906649  1510.35594359  1622.00134318  1692.86769644  1784.15043653\n",
      "  1855.33915379  1986.80993956  2027.48153123  2088.3546004   2149.17394224\n",
      "  2231.21558093  2262.00134318  2343.18334453  2403.7340497   2443.70718603\n",
      "  2514.73472129  2606.01746138]\n",
      "3.025e+17 photons at 332 nm\n"
     ]
    }
   ],
   "source": [
    "laser = 'nt230'\n",
    "if laser == 'nt242':\n",
    "    laser_flux_W = nt242_flux_W\n",
    "    laser_wave = nt242_wave\n",
    "    laser_energy_J = nt242_energy_J\n",
    "if laser == 'nt230':\n",
    "    laser_flux_W = nt230_flux_W\n",
    "    laser_wave = nt230_wave\n",
    "    laser_energy_J = nt230_energy_J\n",
    "\n",
    "print laser_wave\n",
    "\n",
    "if 1 == 1:\n",
    "    \n",
    "    if laser == 'nt242':\n",
    "        conv_fact=1e6\n",
    "        plt.ylim([0,500])\n",
    "        plt.ylabel('Pulse Energy, (uJ)')\n",
    "    if laser == 'nt230':\n",
    "        conv_fact=1e3\n",
    "        plt.ylim([0,11])\n",
    "        plt.ylabel('Pulse Energy, (mJ)')\n",
    "    plt.plot(laser_wave,laser_energy_J*conv_fact,'-g',label=\"Power vs wavelengh\")\n",
    "    plt.title('Spectral resolution function')\n",
    "    \n",
    "    plt.xlabel('wavelength [nm]')\n",
    "    plt.legend()\n",
    "    plt.show()\n",
    "    plt.close()\n",
    "    \n",
    "# assume 100 percent effiency and convert to photons\n",
    "ind=5 # indice of interest\n",
    "number_of_photons = laser_flux_W / (h*c/(laser_wave*1e-9))  # photons per second\n",
    "print \"%.4g photons at %d nm\" % (number_of_photons[ind], laser_wave[ind])"
   ]
  },
  {
   "cell_type": "markdown",
   "metadata": {},
   "source": [
    "### Load beam transfer bench profile"
   ]
  },
  {
   "cell_type": "code",
   "execution_count": 35,
   "metadata": {
    "collapsed": false
   },
   "outputs": [],
   "source": [
    "# Assume only 2 lenses each with 4% loss\n",
    "laser_flux_into_int_sphere = laser_flux_W * (0.96)**2 # watts\n",
    "# assume 4% loss at lenses and "
   ]
  },
  {
   "cell_type": "code",
   "execution_count": 36,
   "metadata": {
    "collapsed": false
   },
   "outputs": [
    {
     "name": "stdout",
     "output_type": "stream",
     "text": [
      "sphere to fiber efficiency 0.000191\n",
      "Bypassing Integration sphere\n",
      "Assuming 0.75 loss on fiber illumination\n"
     ]
    }
   ],
   "source": [
    "# Sphere efficiency - from labsphere theory and app document\n",
    "\n",
    "\n",
    "# assume labsphere AS-02284-033 , 3.3 inch diameter sphere with spectralon. 2 output ports - each 1.5 inch diameter\n",
    "rho= 0.985  # spectralon reflectance - actually has a very slight wavelength dependence - will put that in later\n",
    "\n",
    "sphere_radius = (3.3/2)*0.0254 # in meters\n",
    "input_port_radius = (1.5/2 ) * 0.0254 # in meters\n",
    "output_port_radius = (1.5/2 ) * 0.0254 # in meters\n",
    "A_sphere = 4.0 * np.pi * (sphere_radius**2)# area of the sphere\n",
    "A_input = np.pi * (input_port_radius**2)# input port area\n",
    "A_exit = np.pi * (output_port_radius**2)# exit port area\n",
    "f = (A_input + A_exit)/A_sphere # port fraction = 0.045\n",
    "# efficiency = 1.33e-5\n",
    "\n",
    "\n",
    "#assume labsphere AS-02281-010, 1 inch radius sphere with spectralon. 2 output ports - each 1 inch diameter\n",
    "rho= 0.985  # spectralon reflectance - actually has a very slight wavelength dependence - will put that in later\n",
    "sphere_radius = (1/2.)*0.0254 # in meters\n",
    "input_port_radius = (0.25/2 ) * 0.0254 # in meters\n",
    "output_port_radius = (0.25/2 ) * 0.0254 # in meters\n",
    "A_sphere = 4.0 * np.pi * (sphere_radius**2)# area of the sphere\n",
    "A_input = np.pi * (input_port_radius**2)# input port area\n",
    "A_exit = np.pi * (output_port_radius**2)# exit port area\n",
    "f = (A_input + A_exit)/A_sphere # port fraction\n",
    "\n",
    "\n",
    "Ls = ( laser_flux_into_int_sphere / (np.pi * A_sphere) ) * ( rho / (1- rho*(1-f)) ) # eq 12 - Watts/m2\n",
    "\n",
    "# Fiber bundle coupling efficiency - assuming Optran WF fiber\n",
    "NA=0.22\n",
    "fiber_reflectivity = 0.5 # small wavelength dependence ( assumes silica fiber, n=3.5, angle of in = 12 deg (atan(NA))\n",
    "core_radius = 75e-6 # assuming 75um radius\n",
    "core_area = np.pi*(core_radius**2) # [m2]\n",
    "N_fibers = 42.0 #nominally 28, assume 50% spares\n",
    "Af = core_area*N_fibers\n",
    "\n",
    "Flux_into_fiber = Ls * Af * np.pi * (NA**2)*(1-fiber_reflectivity)  # [watts]\n",
    "\n",
    "# plot sphere efficiency\n",
    "if 1 == 1:\n",
    "    print \"sphere to fiber efficiency %f\" % (Flux_into_fiber[5]/laser_flux_into_int_sphere[5])\n",
    "    #print laser_wave[5]\n",
    "    #plt.plot(laser_wave,Flux_into_fiber/laser_flux_into_int_sphere,'-g')\n",
    "    #plt.title( 'Sphere efficiency')\n",
    "    #plt.ylabel('Sphere to Fiber Transmission')\n",
    "    #plt.xlabel('wavelength [nm]')\n",
    "    #plt.legend()\n",
    "    ##plt.ylim([0,1])\n",
    "    #plt.show()\n",
    "    #plt.close()\n",
    "\n",
    "    # bypass sphere\n",
    "    ignore_sphere = 1\n",
    "    if ignore_sphere == 1:\n",
    "        print \"Bypassing Integration sphere\"\n",
    "        fiber_splitting_loss = 0.75 \n",
    "        print \"Assuming %0.4g loss on fiber illumination\" % fiber_splitting_loss\n",
    "        Flux_into_fiber = laser_flux_into_int_sphere*(1-fiber_splitting_loss)\n",
    "        \n"
   ]
  },
  {
   "cell_type": "code",
   "execution_count": 37,
   "metadata": {
    "collapsed": false
   },
   "outputs": [
    {
     "name": "stdout",
     "output_type": "stream",
     "text": [
      "fiber attenuation is 0.176 at 332 nm\n"
     ]
    }
   ],
   "source": [
    "\n",
    "# Fiber efficiency\n",
    "# plots are in weird units (dB/km) - want to put that into transmission per meter.\n",
    "# data from http://www.ceramoptec.de/products/fibers/optran-uv-wf.html\n",
    "\n",
    "fiber_distance = 80.0 # meters\n",
    "fiber_wave= np.array([300,350,400,500,600,700,800,900,950,1000,1100.0,1200.0]) # in nm\n",
    "fiber_att_db_km0 = np.array([140, 70, 35, 15,8.5,  6,  5,  5,6.5, 3.5,   3,2]) # in db/km\n",
    "# interpolate to have the same wavelengths as nt_242\n",
    "fiber_att_db_km = scipy.interpolate.griddata(fiber_wave, fiber_att_db_km0, laser_wave, method='linear')\n",
    "# convert to transmission over the distance\n",
    "fiber_att = (10**(-fiber_att_db_km/1000*fiber_distance/10.0)) # transmission per m\n",
    "\n",
    "if 0 == 1:\n",
    "    plt.plot(laser_wave,fiber_att,'-g')\n",
    "    #plt.plot(fiber_wave, fiber_att_db_km0,'-b')\n",
    "    plt.title( 'Fiber Transmission over %d meters' % fiber_distance)\n",
    "    plt.ylabel('Fiber Transmission over %d meters' % fiber_distance)\n",
    "    plt.xlabel('wavelength [nm]')\n",
    "    plt.xlim([300,1300])\n",
    "    plt.legend()\n",
    "    #plt.ylim([0,1])\n",
    "    plt.show()\n",
    "    plt.close()\n",
    "\n",
    "Flux_out_of_fiber = Flux_into_fiber * fiber_att\n",
    "\n",
    "print \"fiber attenuation is %0.3f at %d nm\" % (fiber_att[ind],laser_wave[ind])"
   ]
  },
  {
   "cell_type": "markdown",
   "metadata": {},
   "source": [
    "### Multiply by end throughput calculation from Ming/Zemax/FRED (660nm)"
   ]
  },
  {
   "cell_type": "code",
   "execution_count": 38,
   "metadata": {
    "collapsed": false
   },
   "outputs": [],
   "source": [
    "#masks are not included in Ming's estimate - guessing a mask throughput for the moment\n",
    "mask_throughput=0.25 # measured from Zemax\n",
    "\n",
    "FF_system_efficiency = mask_throughput* 0.005/100.  # screen photons to detector - 3 Al mirrors - no silver\n",
    "flux_hitting_focal_plane = Flux_out_of_fiber * FF_system_efficiency"
   ]
  },
  {
   "cell_type": "markdown",
   "metadata": {},
   "source": [
    "###Remove filter dependence"
   ]
  },
  {
   "cell_type": "code",
   "execution_count": 39,
   "metadata": {
    "collapsed": false
   },
   "outputs": [],
   "source": [
    "# must divide by filter response at 660nm first - then multiply by the desired filters\n",
    "r_filter_trans0 = np.genfromtxt('/Users/patrickingraham/LSST/laser_throughput_calc/throughputs/baseline/filter_r.dat',\n",
    "                          delimiter=' ',comments='#') # wavelength [nm], Transmission\n",
    "r_filter_trans_660nm = scipy.interpolate.griddata(r_filter_trans0[:,0],r_filter_trans0[:,1], 660, method='linear')\n",
    "\n",
    "filterless_flux_hitting_focal_plane = flux_hitting_focal_plane / r_filter_trans_660nm\n"
   ]
  },
  {
   "cell_type": "markdown",
   "metadata": {},
   "source": [
    "###Convert from energy to photons - get photons per pixel"
   ]
  },
  {
   "cell_type": "code",
   "execution_count": 40,
   "metadata": {
    "collapsed": false
   },
   "outputs": [],
   "source": [
    "filterless_flux_hitting_focal_plane_photons = filterless_flux_hitting_focal_plane / (h*c/(laser_wave*1e-9)) # photons per second\n",
    "#want the number of photons per second hitting eachpixel.\n",
    "#Flux_hitting_focal_plane_photons[ind]"
   ]
  },
  {
   "cell_type": "code",
   "execution_count": 41,
   "metadata": {
    "collapsed": false
   },
   "outputs": [
    {
     "name": "stdout",
     "output_type": "stream",
     "text": [
      "Filterless photons per pixel per second 48 at 332 nm\n"
     ]
    }
   ],
   "source": [
    "total_number_of_pixels = 3.2e9 # 3.2 gigapixels\n",
    "full_well = 130000 # electrons   - this is actually from DECam..\n",
    "\n",
    "filterless_flux_per_pixel_per_second = filterless_flux_hitting_focal_plane_photons / total_number_of_pixels\n",
    "print \"Filterless photons per pixel per second %d at %d nm\" % (filterless_flux_per_pixel_per_second[ind],laser_wave[ind])"
   ]
  },
  {
   "cell_type": "code",
   "execution_count": 42,
   "metadata": {
    "collapsed": false
   },
   "outputs": [],
   "source": [
    "if 1 == 1:\n",
    "    plt.plot(laser_wave,filterless_flux_per_pixel_per_second,'-g')\n",
    "    plt.title( 'Filterless Single Laser Incident flux on individual detector pixels',fontsize=20)\n",
    "    plt.ylabel('Filterless Flux [ph/pix/s]',fontsize=20)\n",
    "    plt.xlabel('wavelength [nm]',fontsize=20)\n",
    "    plt.xlim([300,1300])\n",
    "    plt.text(600, 3200, '**Assumes NO FILTER**')\n",
    "    if ignore_sphere == 1:\n",
    "        plt.text(600, 3000, '**Assuming NO integration sphere**')\n",
    "    plt.legend()\n",
    "    #plt.ylim([0,1])\n",
    "    plt.show()\n",
    "    plt.close()"
   ]
  },
  {
   "cell_type": "markdown",
   "metadata": {
    "collapsed": true
   },
   "source": [
    "### Calculate time to complete a monochromatic flat"
   ]
  },
  {
   "cell_type": "code",
   "execution_count": 58,
   "metadata": {
    "collapsed": false
   },
   "outputs": [],
   "source": [
    "# assume a required MEDIAN SNR for a given wavelength\n",
    "med_SNR=100.0\n",
    "\n",
    "# load a filter (use total transmission since that is what actually\n",
    "# matters and the filters have leaks that confuse the algorithm)\n",
    "filter = 'y'  # ugrizy\n",
    "filename='/Users/patrickingraham/LSST/laser_throughput_calc/throughputs/baseline/total_'+filter+'.dat'\n",
    "total_trans000 = np.genfromtxt(filename, delimiter=' ',comments='#') # wavelength [nm], Transmission\n",
    "#find nans and remove them\n",
    "good = ~np.isnan(total_trans000[:,1])\n",
    "total_trans0=np.transpose(np.array([total_trans000[good,0], total_trans000[good,1]]))\n"
   ]
  },
  {
   "cell_type": "code",
   "execution_count": 59,
   "metadata": {
    "collapsed": false
   },
   "outputs": [
    {
     "name": "stdout",
     "output_type": "stream",
     "text": [
      "blue side minimum total transmission (0.01) scan wavelength is 880 nm\n",
      "red side minimum total transmission (0.01) scan wavelength is 1081 nm\n"
     ]
    }
   ],
   "source": [
    "\n",
    "#print filter_trans0[0:100,:]\n",
    "#find the X% transmission line \n",
    "min_trans=0.01\n",
    "# first find the wavelength of median bandpass transmission\n",
    "#cen_ind, = np.where(total_trans0[:,1] == (np.median(total_trans0[:,1] > 0.5)))\n",
    "cen_ind, = np.where(total_trans0[:,1] > 0.3)\n",
    "median_trans_value=sorted(total_trans0[cen_ind,1])[cen_ind.size / 2]\n",
    "#print median_trans_value\n",
    "median_value_ind,=np.where(total_trans0[:,1] == median_trans_value)\n",
    "#print median_value_ind\n",
    "#print total_trans0[median_value_ind,0]\n",
    "\n",
    "# smooth by a few nm to help find the desired transmission boundary % level\n",
    "tmp= np.convolve(total_trans0[:,1], [0,1,1,1,0], mode='same')\n",
    "\n",
    "if 0==1:\n",
    "    plt.plot(total_trans0[:,0],total_trans0[:,1],'-r')\n",
    "    plt.show()\n",
    "    plt.close()\n",
    "    \n",
    "blue_side_trans_ind2,=np.where( (abs(tmp[0:median_value_ind]-min_trans)) == \n",
    "                               (np.nanmin(abs(tmp[0:median_value_ind]-min_trans))) )\n",
    "red_side_trans_ind2,=np.where( (abs(tmp[median_value_ind::]-min_trans)) == \n",
    "                              (np.nanmin(abs(tmp[median_value_ind::]-min_trans))) )\n",
    "\n",
    "print 'blue side minimum total transmission (%0.2f) scan wavelength is %d nm' % (min_trans,total_trans0[blue_side_trans_ind2,0])\n",
    "print 'red side minimum total transmission (%0.2f) scan wavelength is %d nm' % (min_trans,total_trans0[median_value_ind+red_side_trans_ind2,0])\n"
   ]
  },
  {
   "cell_type": "code",
   "execution_count": 60,
   "metadata": {
    "collapsed": false
   },
   "outputs": [
    {
     "name": "stdout",
     "output_type": "stream",
     "text": [
      "median count rate for y-band is 281 photons/sec\n",
      "y-band will take 2.0 hours for an median SNR of 100\n",
      "y-band will have an integrated SNR of 1556 \n"
     ]
    }
   ],
   "source": [
    "\n",
    "# define filter bandpass range\n",
    "filter_bandpass = np.arange(total_trans0[blue_side_trans_ind2,0],\n",
    "                            total_trans0[median_value_ind+red_side_trans_ind2,0])\n",
    "\n",
    "# load detector efficiency\n",
    "det_filename='/Users/patrickingraham/LSST/laser_throughput_calc/throughputs/baseline/detector_120227.dat'\n",
    "detector0 = np.genfromtxt(det_filename, delimiter='',comments='#') # wavelength [nm], Transmission\n",
    "#interpolate to filter_bandpass\n",
    "detector_efficiency = scipy.interpolate.griddata(detector0[:,0],detector0[:,1], filter_bandpass, method='linear')\n",
    "\n",
    "# load the filter curve\n",
    "filename='/Users/patrickingraham/LSST/laser_throughput_calc/throughputs/baseline/filter_'+filter+'.dat'\n",
    "filter_trans0 = np.genfromtxt(filename, delimiter=' ',comments='#') # wavelengt\n",
    "#get filter transmission for this bandpass\n",
    "filter_transmission = scipy.interpolate.griddata(filter_trans0[:,0],\n",
    "                                                 filter_trans0[:,1], filter_bandpass, method='linear')\n",
    "\n",
    "# determine filterless and detectorless count rate average\n",
    "filterless_count_rate = scipy.interpolate.griddata(laser_wave,filterless_flux_per_pixel_per_second,\n",
    "                                                   filter_bandpass, method='linear') \n",
    "count_rate = filterless_count_rate * filter_transmission * detector_efficiency\n",
    "    \n",
    "median_count_rate = np.median(count_rate)\n",
    "print 'median count rate for %s-band is %d photons/sec' % (filter ,median_count_rate)\n",
    "\n",
    "# determine how long it will take to collect med_SNR^2 of photons\n",
    "time = (med_SNR**2) / median_count_rate * filter_bandpass.size / 3600  # in hours\n",
    "print '%s-band will take %0.1f hours for an median SNR of %d' % (filter,time,med_SNR)\n",
    "\n",
    "snr_per_wave=np.sqrt(count_rate* ((med_SNR**2) / median_count_rate))\n",
    "integrated_snr= np.sqrt(sum(count_rate* ((med_SNR**2) / median_count_rate)))\n",
    "\n",
    "print '%s-band will have an integrated SNR of %d ' % (filter, integrated_snr)\n",
    "\n",
    "# create SNR plot\n",
    "if 0 == 1:\n",
    "    plt.plot(filter_bandpass,snr_per_wave,'-g')\n",
    "    plt.title( 'SNR of monochromatic flat',fontsize=20)\n",
    "    plt.ylabel('SNR',fontsize=20)\n",
    "    plt.xlabel('wavelength [nm]',fontsize=20)\n",
    "    #if ignore_sphere == 1:\n",
    "    #    plt.text(600, 3000, '**Assuming NO integration sphere**')\n",
    "    plt.legend()\n",
    "    #plt.ylim([0,1])\n",
    "    plt.show()\n",
    "    plt.close()"
   ]
  },
  {
   "cell_type": "code",
   "execution_count": null,
   "metadata": {
    "collapsed": true
   },
   "outputs": [],
   "source": []
  },
  {
   "cell_type": "code",
   "execution_count": null,
   "metadata": {
    "collapsed": true
   },
   "outputs": [],
   "source": []
  },
  {
   "cell_type": "code",
   "execution_count": null,
   "metadata": {
    "collapsed": true
   },
   "outputs": [],
   "source": []
  }
 ],
 "metadata": {
  "kernelspec": {
   "display_name": "Python 2",
   "language": "python",
   "name": "python2"
  },
  "language_info": {
   "codemirror_mode": {
    "name": "ipython",
    "version": 2
   },
   "file_extension": ".py",
   "mimetype": "text/x-python",
   "name": "python",
   "nbconvert_exporter": "python",
   "pygments_lexer": "ipython2",
   "version": "2.7.10"
  }
 },
 "nbformat": 4,
 "nbformat_minor": 0
}
