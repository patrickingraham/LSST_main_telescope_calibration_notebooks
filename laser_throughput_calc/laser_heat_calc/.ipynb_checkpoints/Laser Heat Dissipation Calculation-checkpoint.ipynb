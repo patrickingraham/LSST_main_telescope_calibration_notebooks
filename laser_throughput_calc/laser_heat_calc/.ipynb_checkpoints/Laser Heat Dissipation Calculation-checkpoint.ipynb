{
 "cells": [
  {
   "cell_type": "code",
   "execution_count": 12,
   "metadata": {
    "collapsed": true
   },
   "outputs": [],
   "source": [
    "import numpy as np\n",
    "import matplotlib\n"
   ]
  },
  {
   "cell_type": "code",
   "execution_count": null,
   "metadata": {
    "collapsed": false
   },
   "outputs": [],
   "source": [
    "\n"
   ]
  },
  {
   "cell_type": "markdown",
   "metadata": {},
   "source": [
    "The Laser (1 for the calibration screen, another for the CBP) would be located in a box mounted near each device. That box would be insulated, with cool dome air being pushed through the box and out of a pipe, through the wall of the dome, and outside.\n",
    "\n",
    "This calculate aims to determine how much air is required to keep the laser at operating temperature and how long it will take to bring the laser and case to within 1 degree of the dome internal temperature"
   ]
  },
  {
   "cell_type": "code",
   "execution_count": 35,
   "metadata": {
    "collapsed": true
   },
   "outputs": [],
   "source": [
    "Ep_laser = 1000 # Watts \n",
    "Ep_fans = 0*2* 85 # 2 fans at 85 watts each\n",
    "Ep_total_W = Ep_laser + Ep_fans # [W] Total Power requiring removal\n",
    "Ep_total_kW = Ep_total_W / 1000.0 # [kW]"
   ]
  },
  {
   "cell_type": "code",
   "execution_count": 36,
   "metadata": {
    "collapsed": true
   },
   "outputs": [],
   "source": [
    "T_ambient = 19 # Ambient Dome Internal Temperature - Ranges between 19 and -3 C\n",
    "# At 19, the temperature differential is minimal, so you have to cool 1 kW\n",
    "# at -3 C, you require less flow to cool, but it'll take longer to cool \n",
    "# once shutoff since the temperature differential is larger\n",
    "\n",
    "# The laser operational temperature must be between 15 and 30 degrees celcius.\n",
    "T_laser = 15 # Laser Operational Temperature - we'll operate it as cold as possible\n",
    "# The laser temperature can rise up to 30C (delta of 11 degrees from 19K ambient,\n",
    "# so you should probably keep it around 25C\n",
    "# for safety. However, this is the temperature of the laser, meaning the rise of the\n",
    "# container it is in should be ~50 percent of that = 5.5C surrounding temperature\n",
    "# differential\n",
    "dT_allowed=5.5 # allowable temperature rise from T_laser"
   ]
  },
  {
   "cell_type": "code",
   "execution_count": 42,
   "metadata": {
    "collapsed": true
   },
   "outputs": [],
   "source": [
    "air_density_sea_level = 1.225 # kg/m3 at 15C\n",
    "air_density_pachon = air_density_sea_level * 0.74  # [kg/m3] 2715m - read off graph from wikipedia \n",
    "air_density_pachon = 1.0 # doug Verification\n",
    "air_specific_heat = 1.00 # kJ/(kg*K), at constant pressure at 27C - wikipedia\n",
    "\n"
   ]
  },
  {
   "cell_type": "code",
   "execution_count": 43,
   "metadata": {
    "collapsed": false
   },
   "outputs": [
    {
     "name": "stdout",
     "output_type": "stream",
     "text": [
      "Required flow to remove heat = 0.363636 [m3/s]\n"
     ]
    }
   ],
   "source": [
    "# Flow volume required to dissipate this much energy\n",
    "# flow_volume = Power / (air_density * specific_heat * dT)\n",
    "# flow units = (kJ/s) / (kg/m3 * kJ/(kg*K) * K)\n",
    "#  = (kJ/s) / (kg/m3 * kJ/(kg) ) - removes K \n",
    "#  = (1/s) / (kg/m3 * 1/(kg) ) - removes kJ\n",
    "#  = (1/s) / (1/m3  ) - removes kg\n",
    "# = [m3/s]\n",
    "flow_volume0 = Ep_total_kW / (air_density_pachon * air_specific_heat * dT_allowed) #  [m3/s]\n",
    "\n",
    "# efficiency is non-zero\n",
    "cooling_efficiency = 0.50 # engineering estimate from Doug\n",
    "\n",
    "flow_volume_eff = flow_volume0 / cooling_efficiency\n",
    "\n",
    "print('Required flow to remove heat = %f [m3/s]' % flow_volume_eff)"
   ]
  },
  {
   "cell_type": "code",
   "execution_count": 48,
   "metadata": {
    "collapsed": false
   },
   "outputs": [
    {
     "name": "stdout",
     "output_type": "stream",
     "text": [
      "Flow through each dome duct 68.250000 [m3/s]\n"
     ]
    }
   ],
   "source": [
    "# Doc-10281 estimates that the dome cooling required to compensate for heating is 273 kW\n",
    "dome_HVAC_cooling_power_provided = 273.0 #[kW]\n",
    "dT_from_ambient = 1.0\n",
    "# now convert that to m3/s\n",
    "dome_HVAC_flow_per_duct = dome_HVAC_cooling_power_provided / (\n",
    "    air_density_pachon * air_specific_heat * dT_from_ambient) / 4.0 #  [m3/s]\n",
    "print('Flow through each dome duct %f [m3/s]' %  dome_HVAC_flow_per_duct)"
   ]
  },
  {
   "cell_type": "code",
   "execution_count": 18,
   "metadata": {
    "collapsed": false
   },
   "outputs": [
    {
     "name": "stdout",
     "output_type": "stream",
     "text": [
      "1.5904312808798329\n"
     ]
    }
   ],
   "source": [
    "# Dome is apparently R~20 (insulation)\n",
    "# R20 = 20 m2 K/W\n",
    "# Assuming a 15 degree temperature difference , then 15 K / (20 m2/K/W) = 0.75 W/m2\n",
    "dome_rad = 15.0 # m\n",
    "dome_height = 15.0 #m\n",
    "dome_surface_area = np.pi*(dome_rad**2) + 2*np.pi*dome_rad*dome_height\n",
    "print(dome_surface_area* 0.75e-3) # kW - energy leakage from dome due to insulation"
   ]
  },
  {
   "cell_type": "code",
   "execution_count": null,
   "metadata": {
    "collapsed": true
   },
   "outputs": [],
   "source": []
  }
 ],
 "metadata": {
  "anaconda-cloud": {},
  "kernelspec": {
   "display_name": "Python [default]",
   "language": "python",
   "name": "python3"
  },
  "language_info": {
   "codemirror_mode": {
    "name": "ipython",
    "version": 3
   },
   "file_extension": ".py",
   "mimetype": "text/x-python",
   "name": "python",
   "nbconvert_exporter": "python",
   "pygments_lexer": "ipython3",
   "version": "3.5.2"
  }
 },
 "nbformat": 4,
 "nbformat_minor": 0
}
